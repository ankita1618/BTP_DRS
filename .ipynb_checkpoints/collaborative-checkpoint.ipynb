{
 "cells": [
  {
   "cell_type": "code",
   "execution_count": 1,
   "metadata": {},
   "outputs": [],
   "source": [
    "import numpy as np\n",
    "import pandas as pd\n",
    "import scipy.sparse\n",
    "from scipy.spatial.distance import correlation"
   ]
  },
  {
   "cell_type": "code",
   "execution_count": 2,
   "metadata": {},
   "outputs": [],
   "source": [
    "user_data = pd.read_csv('users_data.csv')\n",
    "attractions = pd.read_csv('20attractions.csv')"
   ]
  },
  {
   "cell_type": "code",
   "execution_count": 3,
   "metadata": {},
   "outputs": [
    {
     "data": {
      "text/html": [
       "<div>\n",
       "<style scoped>\n",
       "    .dataframe tbody tr th:only-of-type {\n",
       "        vertical-align: middle;\n",
       "    }\n",
       "\n",
       "    .dataframe tbody tr th {\n",
       "        vertical-align: top;\n",
       "    }\n",
       "\n",
       "    .dataframe thead th {\n",
       "        text-align: right;\n",
       "    }\n",
       "</style>\n",
       "<table border=\"1\" class=\"dataframe\">\n",
       "  <thead>\n",
       "    <tr style=\"text-align: right;\">\n",
       "      <th></th>\n",
       "      <th>Timestamp</th>\n",
       "      <th>Age</th>\n",
       "      <th>Gender</th>\n",
       "      <th>Marital Status</th>\n",
       "      <th>Which category best describes your primary area of employment?</th>\n",
       "      <th>In which city do you live?</th>\n",
       "      <th>How many night(s) do you plan to stay in Leh?</th>\n",
       "      <th>The people who will be accompanying you:</th>\n",
       "      <th>Estimated budget for the trip (per person)?</th>\n",
       "      <th>The purpose of taking the trip</th>\n",
       "      <th>Which type of accommodation would you prefer for the trip?</th>\n",
       "      <th>What are the activities you have planned to participate in during your stay?</th>\n",
       "      <th>Please tick the places that you have visited/ planning to visit during your trip to Leh.</th>\n",
       "      <th>Food and beverages(restaurant)</th>\n",
       "      <th>Accessibility to public transport</th>\n",
       "      <th>Hotel facilities</th>\n",
       "      <th>Price of goods and services</th>\n",
       "    </tr>\n",
       "  </thead>\n",
       "  <tbody>\n",
       "    <tr>\n",
       "      <th>0</th>\n",
       "      <td>27/08/2020 17:12:32</td>\n",
       "      <td>21</td>\n",
       "      <td>Female</td>\n",
       "      <td>Unmarried</td>\n",
       "      <td>Student</td>\n",
       "      <td>Bhopal</td>\n",
       "      <td>More than 5 days</td>\n",
       "      <td>Parents or Relatives</td>\n",
       "      <td>Between 10k and 25k</td>\n",
       "      <td>Holiday or vacation</td>\n",
       "      <td>Hotel</td>\n",
       "      <td>Visit museums, Visit national parks, Visit his...</td>\n",
       "      <td>Pangong Tso Lake, Shanti Stupa, Tiger Hill, Kh...</td>\n",
       "      <td>9.0</td>\n",
       "      <td>8.0</td>\n",
       "      <td>10.0</td>\n",
       "      <td>8.0</td>\n",
       "    </tr>\n",
       "    <tr>\n",
       "      <th>1</th>\n",
       "      <td>27/08/2020 17:14:42</td>\n",
       "      <td>22</td>\n",
       "      <td>Male</td>\n",
       "      <td>Unmarried</td>\n",
       "      <td>Student</td>\n",
       "      <td>Deoria</td>\n",
       "      <td>Less than 2 days</td>\n",
       "      <td>Friends</td>\n",
       "      <td>Below 10k</td>\n",
       "      <td>Holiday or vacation</td>\n",
       "      <td>Dormitory</td>\n",
       "      <td>Biking, Water Sports or Boating, Visit enterta...</td>\n",
       "      <td>Pangong Tso Lake, Shanti Stupa, Royal Leh Pala...</td>\n",
       "      <td>9.0</td>\n",
       "      <td>6.0</td>\n",
       "      <td>7.0</td>\n",
       "      <td>7.0</td>\n",
       "    </tr>\n",
       "    <tr>\n",
       "      <th>2</th>\n",
       "      <td>27/08/2020 17:21:38</td>\n",
       "      <td>21</td>\n",
       "      <td>Female</td>\n",
       "      <td>Unmarried</td>\n",
       "      <td>Student</td>\n",
       "      <td>Gwalior</td>\n",
       "      <td>Between 2 to 5 days</td>\n",
       "      <td>Friends</td>\n",
       "      <td>Below 10k</td>\n",
       "      <td>Holiday or vacation</td>\n",
       "      <td>Dormitory</td>\n",
       "      <td>Biking, Water Sports or Boating, Visit museums...</td>\n",
       "      <td>Pangong Tso Lake, Shanti Stupa, Tiger Hill, Kh...</td>\n",
       "      <td>NaN</td>\n",
       "      <td>NaN</td>\n",
       "      <td>NaN</td>\n",
       "      <td>NaN</td>\n",
       "    </tr>\n",
       "    <tr>\n",
       "      <th>3</th>\n",
       "      <td>27/08/2020 17:30:16</td>\n",
       "      <td>22</td>\n",
       "      <td>Male</td>\n",
       "      <td>Unmarried</td>\n",
       "      <td>Student</td>\n",
       "      <td>Kota</td>\n",
       "      <td>Between 2 to 5 days</td>\n",
       "      <td>Girlfriend</td>\n",
       "      <td>Between 10k and 25k</td>\n",
       "      <td>Holiday or vacation</td>\n",
       "      <td>Hotel</td>\n",
       "      <td>Visit entertainment places, nightclubs, Restau...</td>\n",
       "      <td>Pangong Tso Lake, Gol Market</td>\n",
       "      <td>9.0</td>\n",
       "      <td>9.0</td>\n",
       "      <td>7.0</td>\n",
       "      <td>10.0</td>\n",
       "    </tr>\n",
       "    <tr>\n",
       "      <th>4</th>\n",
       "      <td>27/08/2020 17:31:52</td>\n",
       "      <td>20</td>\n",
       "      <td>Female</td>\n",
       "      <td>Unmarried</td>\n",
       "      <td>Student</td>\n",
       "      <td>Gwalior</td>\n",
       "      <td>More than 5 days</td>\n",
       "      <td>Friends</td>\n",
       "      <td>Above 25k</td>\n",
       "      <td>Holiday or vacation</td>\n",
       "      <td>Hotel</td>\n",
       "      <td>Biking, Water Sports or Boating, Visit museums...</td>\n",
       "      <td>Pangong Tso Lake, Shanti Stupa, Tiger Hill, Kh...</td>\n",
       "      <td>NaN</td>\n",
       "      <td>NaN</td>\n",
       "      <td>NaN</td>\n",
       "      <td>NaN</td>\n",
       "    </tr>\n",
       "  </tbody>\n",
       "</table>\n",
       "</div>"
      ],
      "text/plain": [
       "             Timestamp  Age  Gender Marital Status  \\\n",
       "0  27/08/2020 17:12:32   21  Female      Unmarried   \n",
       "1  27/08/2020 17:14:42   22    Male      Unmarried   \n",
       "2  27/08/2020 17:21:38   21  Female      Unmarried   \n",
       "3  27/08/2020 17:30:16   22    Male      Unmarried   \n",
       "4  27/08/2020 17:31:52   20  Female      Unmarried   \n",
       "\n",
       "  Which category best describes your primary area of employment?  \\\n",
       "0                                            Student               \n",
       "1                                            Student               \n",
       "2                                            Student               \n",
       "3                                            Student               \n",
       "4                                            Student               \n",
       "\n",
       "  In which city do you live? How many night(s) do you plan to stay in Leh?  \\\n",
       "0                     Bhopal                              More than 5 days   \n",
       "1                     Deoria                              Less than 2 days   \n",
       "2                    Gwalior                           Between 2 to 5 days   \n",
       "3                       Kota                           Between 2 to 5 days   \n",
       "4                    Gwalior                              More than 5 days   \n",
       "\n",
       "  The people who will be accompanying you:  \\\n",
       "0                     Parents or Relatives   \n",
       "1                                  Friends   \n",
       "2                                  Friends   \n",
       "3                               Girlfriend   \n",
       "4                                  Friends   \n",
       "\n",
       "  Estimated budget for the trip (per person)? The purpose of taking the trip  \\\n",
       "0                         Between 10k and 25k            Holiday or vacation   \n",
       "1                                   Below 10k            Holiday or vacation   \n",
       "2                                   Below 10k            Holiday or vacation   \n",
       "3                         Between 10k and 25k            Holiday or vacation   \n",
       "4                                   Above 25k            Holiday or vacation   \n",
       "\n",
       "  Which type of accommodation would you prefer for the trip?  \\\n",
       "0                                              Hotel           \n",
       "1                                          Dormitory           \n",
       "2                                          Dormitory           \n",
       "3                                              Hotel           \n",
       "4                                              Hotel           \n",
       "\n",
       "  What are the activities you have planned to participate in during your stay?  \\\n",
       "0  Visit museums, Visit national parks, Visit his...                             \n",
       "1  Biking, Water Sports or Boating, Visit enterta...                             \n",
       "2  Biking, Water Sports or Boating, Visit museums...                             \n",
       "3  Visit entertainment places, nightclubs, Restau...                             \n",
       "4  Biking, Water Sports or Boating, Visit museums...                             \n",
       "\n",
       "  Please tick the places that you have visited/ planning to visit during your trip to Leh.  \\\n",
       "0  Pangong Tso Lake, Shanti Stupa, Tiger Hill, Kh...                                         \n",
       "1  Pangong Tso Lake, Shanti Stupa, Royal Leh Pala...                                         \n",
       "2  Pangong Tso Lake, Shanti Stupa, Tiger Hill, Kh...                                         \n",
       "3                       Pangong Tso Lake, Gol Market                                         \n",
       "4  Pangong Tso Lake, Shanti Stupa, Tiger Hill, Kh...                                         \n",
       "\n",
       "   Food and beverages(restaurant)  Accessibility to public transport  \\\n",
       "0                             9.0                                8.0   \n",
       "1                             9.0                                6.0   \n",
       "2                             NaN                                NaN   \n",
       "3                             9.0                                9.0   \n",
       "4                             NaN                                NaN   \n",
       "\n",
       "   Hotel facilities  Price of goods and services  \n",
       "0              10.0                          8.0  \n",
       "1               7.0                          7.0  \n",
       "2               NaN                          NaN  \n",
       "3               7.0                         10.0  \n",
       "4               NaN                          NaN  "
      ]
     },
     "execution_count": 3,
     "metadata": {},
     "output_type": "execute_result"
    }
   ],
   "source": [
    "user_data.head()"
   ]
  },
  {
   "cell_type": "code",
   "execution_count": 4,
   "metadata": {},
   "outputs": [],
   "source": [
    "user_data.drop(['Timestamp', 'Marital Status', 'Which category best describes your primary area of employment?', 'In which city do you live?', 'The people who will be accompanying you:'], axis = 1, inplace=True) "
   ]
  },
  {
   "cell_type": "code",
   "execution_count": 5,
   "metadata": {},
   "outputs": [],
   "source": [
    "user_data.rename(columns={'How many night(s) do you plan to stay in Leh?': '#nights', 'Estimated budget for the trip (per person)?':'Budget/person', 'The purpose of taking the trip':'purpose','Which type of accommodation would you prefer for the trip?':'accomodation_type','What are the activities you have planned to participate in during your stay?':'activities','Please tick the places that you have visited/ planning to visit during your trip to Leh.':'places'}, inplace=True)"
   ]
  },
  {
   "cell_type": "code",
   "execution_count": 6,
   "metadata": {},
   "outputs": [],
   "source": [
    "user_data['places'].fillna('None', inplace=True)"
   ]
  },
  {
   "cell_type": "code",
   "execution_count": 7,
   "metadata": {},
   "outputs": [],
   "source": [
    "user_data['Food and beverages(restaurant)'].fillna(user_data['Food and beverages(restaurant)'].mean(), inplace=True)\n",
    "user_data['Accessibility to public transport'].fillna(user_data['Accessibility to public transport'].mean(), inplace=True)\n",
    "user_data['Hotel facilities'].fillna(user_data['Hotel facilities'].mean(), inplace=True)\n",
    "user_data['Price of goods and services'].fillna(user_data['Price of goods and services'].mean(), inplace=True)"
   ]
  },
  {
   "cell_type": "code",
   "execution_count": 8,
   "metadata": {},
   "outputs": [
    {
     "data": {
      "text/plain": [
       "Age                                  0\n",
       "Gender                               0\n",
       "#nights                              0\n",
       "Budget/person                        0\n",
       "purpose                              0\n",
       "accomodation_type                    0\n",
       "activities                           0\n",
       "places                               0\n",
       "Food and beverages(restaurant)       0\n",
       "Accessibility to public transport    0\n",
       "Hotel facilities                     0\n",
       "Price of goods and services          0\n",
       "dtype: int64"
      ]
     },
     "execution_count": 8,
     "metadata": {},
     "output_type": "execute_result"
    }
   ],
   "source": [
    "user_data.isnull().sum()"
   ]
  },
  {
   "cell_type": "code",
   "execution_count": 9,
   "metadata": {},
   "outputs": [
    {
     "data": {
      "text/html": [
       "<div>\n",
       "<style scoped>\n",
       "    .dataframe tbody tr th:only-of-type {\n",
       "        vertical-align: middle;\n",
       "    }\n",
       "\n",
       "    .dataframe tbody tr th {\n",
       "        vertical-align: top;\n",
       "    }\n",
       "\n",
       "    .dataframe thead th {\n",
       "        text-align: right;\n",
       "    }\n",
       "</style>\n",
       "<table border=\"1\" class=\"dataframe\">\n",
       "  <thead>\n",
       "    <tr style=\"text-align: right;\">\n",
       "      <th></th>\n",
       "      <th>Age</th>\n",
       "      <th>Gender</th>\n",
       "      <th>#nights</th>\n",
       "      <th>Budget/person</th>\n",
       "      <th>purpose</th>\n",
       "      <th>accomodation_type</th>\n",
       "      <th>activities</th>\n",
       "      <th>places</th>\n",
       "      <th>Food and beverages(restaurant)</th>\n",
       "      <th>Accessibility to public transport</th>\n",
       "      <th>Hotel facilities</th>\n",
       "      <th>Price of goods and services</th>\n",
       "    </tr>\n",
       "  </thead>\n",
       "  <tbody>\n",
       "    <tr>\n",
       "      <th>0</th>\n",
       "      <td>21</td>\n",
       "      <td>Female</td>\n",
       "      <td>More than 5 days</td>\n",
       "      <td>Between 10k and 25k</td>\n",
       "      <td>Holiday or vacation</td>\n",
       "      <td>Hotel</td>\n",
       "      <td>Visit museums, Visit national parks, Visit his...</td>\n",
       "      <td>Pangong Tso Lake, Shanti Stupa, Tiger Hill, Kh...</td>\n",
       "      <td>9.000000</td>\n",
       "      <td>8.000000</td>\n",
       "      <td>10.000000</td>\n",
       "      <td>8.000000</td>\n",
       "    </tr>\n",
       "    <tr>\n",
       "      <th>1</th>\n",
       "      <td>22</td>\n",
       "      <td>Male</td>\n",
       "      <td>Less than 2 days</td>\n",
       "      <td>Below 10k</td>\n",
       "      <td>Holiday or vacation</td>\n",
       "      <td>Dormitory</td>\n",
       "      <td>Biking, Water Sports or Boating, Visit enterta...</td>\n",
       "      <td>Pangong Tso Lake, Shanti Stupa, Royal Leh Pala...</td>\n",
       "      <td>9.000000</td>\n",
       "      <td>6.000000</td>\n",
       "      <td>7.000000</td>\n",
       "      <td>7.000000</td>\n",
       "    </tr>\n",
       "    <tr>\n",
       "      <th>2</th>\n",
       "      <td>21</td>\n",
       "      <td>Female</td>\n",
       "      <td>Between 2 to 5 days</td>\n",
       "      <td>Below 10k</td>\n",
       "      <td>Holiday or vacation</td>\n",
       "      <td>Dormitory</td>\n",
       "      <td>Biking, Water Sports or Boating, Visit museums...</td>\n",
       "      <td>Pangong Tso Lake, Shanti Stupa, Tiger Hill, Kh...</td>\n",
       "      <td>8.153846</td>\n",
       "      <td>7.153846</td>\n",
       "      <td>8.269231</td>\n",
       "      <td>7.884615</td>\n",
       "    </tr>\n",
       "    <tr>\n",
       "      <th>3</th>\n",
       "      <td>22</td>\n",
       "      <td>Male</td>\n",
       "      <td>Between 2 to 5 days</td>\n",
       "      <td>Between 10k and 25k</td>\n",
       "      <td>Holiday or vacation</td>\n",
       "      <td>Hotel</td>\n",
       "      <td>Visit entertainment places, nightclubs, Restau...</td>\n",
       "      <td>Pangong Tso Lake, Gol Market</td>\n",
       "      <td>9.000000</td>\n",
       "      <td>9.000000</td>\n",
       "      <td>7.000000</td>\n",
       "      <td>10.000000</td>\n",
       "    </tr>\n",
       "    <tr>\n",
       "      <th>4</th>\n",
       "      <td>20</td>\n",
       "      <td>Female</td>\n",
       "      <td>More than 5 days</td>\n",
       "      <td>Above 25k</td>\n",
       "      <td>Holiday or vacation</td>\n",
       "      <td>Hotel</td>\n",
       "      <td>Biking, Water Sports or Boating, Visit museums...</td>\n",
       "      <td>Pangong Tso Lake, Shanti Stupa, Tiger Hill, Kh...</td>\n",
       "      <td>8.153846</td>\n",
       "      <td>7.153846</td>\n",
       "      <td>8.269231</td>\n",
       "      <td>7.884615</td>\n",
       "    </tr>\n",
       "  </tbody>\n",
       "</table>\n",
       "</div>"
      ],
      "text/plain": [
       "   Age  Gender              #nights        Budget/person              purpose  \\\n",
       "0   21  Female     More than 5 days  Between 10k and 25k  Holiday or vacation   \n",
       "1   22    Male     Less than 2 days            Below 10k  Holiday or vacation   \n",
       "2   21  Female  Between 2 to 5 days            Below 10k  Holiday or vacation   \n",
       "3   22    Male  Between 2 to 5 days  Between 10k and 25k  Holiday or vacation   \n",
       "4   20  Female     More than 5 days            Above 25k  Holiday or vacation   \n",
       "\n",
       "  accomodation_type                                         activities  \\\n",
       "0             Hotel  Visit museums, Visit national parks, Visit his...   \n",
       "1         Dormitory  Biking, Water Sports or Boating, Visit enterta...   \n",
       "2         Dormitory  Biking, Water Sports or Boating, Visit museums...   \n",
       "3             Hotel  Visit entertainment places, nightclubs, Restau...   \n",
       "4             Hotel  Biking, Water Sports or Boating, Visit museums...   \n",
       "\n",
       "                                              places  \\\n",
       "0  Pangong Tso Lake, Shanti Stupa, Tiger Hill, Kh...   \n",
       "1  Pangong Tso Lake, Shanti Stupa, Royal Leh Pala...   \n",
       "2  Pangong Tso Lake, Shanti Stupa, Tiger Hill, Kh...   \n",
       "3                       Pangong Tso Lake, Gol Market   \n",
       "4  Pangong Tso Lake, Shanti Stupa, Tiger Hill, Kh...   \n",
       "\n",
       "   Food and beverages(restaurant)  Accessibility to public transport  \\\n",
       "0                        9.000000                           8.000000   \n",
       "1                        9.000000                           6.000000   \n",
       "2                        8.153846                           7.153846   \n",
       "3                        9.000000                           9.000000   \n",
       "4                        8.153846                           7.153846   \n",
       "\n",
       "   Hotel facilities  Price of goods and services  \n",
       "0         10.000000                     8.000000  \n",
       "1          7.000000                     7.000000  \n",
       "2          8.269231                     7.884615  \n",
       "3          7.000000                    10.000000  \n",
       "4          8.269231                     7.884615  "
      ]
     },
     "execution_count": 9,
     "metadata": {},
     "output_type": "execute_result"
    }
   ],
   "source": [
    "user_data.head()"
   ]
  },
  {
   "cell_type": "code",
   "execution_count": 10,
   "metadata": {},
   "outputs": [],
   "source": [
    "item = []\n",
    "for i in range(len(user_data['Age'])):\n",
    "    item.append(i + 1)"
   ]
  },
  {
   "cell_type": "code",
   "execution_count": 11,
   "metadata": {},
   "outputs": [],
   "source": [
    "user_data['userid'] = item"
   ]
  },
  {
   "cell_type": "code",
   "execution_count": 12,
   "metadata": {},
   "outputs": [
    {
     "data": {
      "text/html": [
       "<div>\n",
       "<style scoped>\n",
       "    .dataframe tbody tr th:only-of-type {\n",
       "        vertical-align: middle;\n",
       "    }\n",
       "\n",
       "    .dataframe tbody tr th {\n",
       "        vertical-align: top;\n",
       "    }\n",
       "\n",
       "    .dataframe thead th {\n",
       "        text-align: right;\n",
       "    }\n",
       "</style>\n",
       "<table border=\"1\" class=\"dataframe\">\n",
       "  <thead>\n",
       "    <tr style=\"text-align: right;\">\n",
       "      <th></th>\n",
       "      <th>Age</th>\n",
       "      <th>Gender</th>\n",
       "      <th>#nights</th>\n",
       "      <th>Budget/person</th>\n",
       "      <th>purpose</th>\n",
       "      <th>accomodation_type</th>\n",
       "      <th>activities</th>\n",
       "      <th>places</th>\n",
       "      <th>Food and beverages(restaurant)</th>\n",
       "      <th>Accessibility to public transport</th>\n",
       "      <th>Hotel facilities</th>\n",
       "      <th>Price of goods and services</th>\n",
       "      <th>userid</th>\n",
       "    </tr>\n",
       "  </thead>\n",
       "  <tbody>\n",
       "    <tr>\n",
       "      <th>0</th>\n",
       "      <td>21</td>\n",
       "      <td>Female</td>\n",
       "      <td>More than 5 days</td>\n",
       "      <td>Between 10k and 25k</td>\n",
       "      <td>Holiday or vacation</td>\n",
       "      <td>Hotel</td>\n",
       "      <td>Visit museums, Visit national parks, Visit his...</td>\n",
       "      <td>Pangong Tso Lake, Shanti Stupa, Tiger Hill, Kh...</td>\n",
       "      <td>9.000000</td>\n",
       "      <td>8.000000</td>\n",
       "      <td>10.000000</td>\n",
       "      <td>8.000000</td>\n",
       "      <td>1</td>\n",
       "    </tr>\n",
       "    <tr>\n",
       "      <th>1</th>\n",
       "      <td>22</td>\n",
       "      <td>Male</td>\n",
       "      <td>Less than 2 days</td>\n",
       "      <td>Below 10k</td>\n",
       "      <td>Holiday or vacation</td>\n",
       "      <td>Dormitory</td>\n",
       "      <td>Biking, Water Sports or Boating, Visit enterta...</td>\n",
       "      <td>Pangong Tso Lake, Shanti Stupa, Royal Leh Pala...</td>\n",
       "      <td>9.000000</td>\n",
       "      <td>6.000000</td>\n",
       "      <td>7.000000</td>\n",
       "      <td>7.000000</td>\n",
       "      <td>2</td>\n",
       "    </tr>\n",
       "    <tr>\n",
       "      <th>2</th>\n",
       "      <td>21</td>\n",
       "      <td>Female</td>\n",
       "      <td>Between 2 to 5 days</td>\n",
       "      <td>Below 10k</td>\n",
       "      <td>Holiday or vacation</td>\n",
       "      <td>Dormitory</td>\n",
       "      <td>Biking, Water Sports or Boating, Visit museums...</td>\n",
       "      <td>Pangong Tso Lake, Shanti Stupa, Tiger Hill, Kh...</td>\n",
       "      <td>8.153846</td>\n",
       "      <td>7.153846</td>\n",
       "      <td>8.269231</td>\n",
       "      <td>7.884615</td>\n",
       "      <td>3</td>\n",
       "    </tr>\n",
       "    <tr>\n",
       "      <th>3</th>\n",
       "      <td>22</td>\n",
       "      <td>Male</td>\n",
       "      <td>Between 2 to 5 days</td>\n",
       "      <td>Between 10k and 25k</td>\n",
       "      <td>Holiday or vacation</td>\n",
       "      <td>Hotel</td>\n",
       "      <td>Visit entertainment places, nightclubs, Restau...</td>\n",
       "      <td>Pangong Tso Lake, Gol Market</td>\n",
       "      <td>9.000000</td>\n",
       "      <td>9.000000</td>\n",
       "      <td>7.000000</td>\n",
       "      <td>10.000000</td>\n",
       "      <td>4</td>\n",
       "    </tr>\n",
       "    <tr>\n",
       "      <th>4</th>\n",
       "      <td>20</td>\n",
       "      <td>Female</td>\n",
       "      <td>More than 5 days</td>\n",
       "      <td>Above 25k</td>\n",
       "      <td>Holiday or vacation</td>\n",
       "      <td>Hotel</td>\n",
       "      <td>Biking, Water Sports or Boating, Visit museums...</td>\n",
       "      <td>Pangong Tso Lake, Shanti Stupa, Tiger Hill, Kh...</td>\n",
       "      <td>8.153846</td>\n",
       "      <td>7.153846</td>\n",
       "      <td>8.269231</td>\n",
       "      <td>7.884615</td>\n",
       "      <td>5</td>\n",
       "    </tr>\n",
       "  </tbody>\n",
       "</table>\n",
       "</div>"
      ],
      "text/plain": [
       "   Age  Gender              #nights        Budget/person              purpose  \\\n",
       "0   21  Female     More than 5 days  Between 10k and 25k  Holiday or vacation   \n",
       "1   22    Male     Less than 2 days            Below 10k  Holiday or vacation   \n",
       "2   21  Female  Between 2 to 5 days            Below 10k  Holiday or vacation   \n",
       "3   22    Male  Between 2 to 5 days  Between 10k and 25k  Holiday or vacation   \n",
       "4   20  Female     More than 5 days            Above 25k  Holiday or vacation   \n",
       "\n",
       "  accomodation_type                                         activities  \\\n",
       "0             Hotel  Visit museums, Visit national parks, Visit his...   \n",
       "1         Dormitory  Biking, Water Sports or Boating, Visit enterta...   \n",
       "2         Dormitory  Biking, Water Sports or Boating, Visit museums...   \n",
       "3             Hotel  Visit entertainment places, nightclubs, Restau...   \n",
       "4             Hotel  Biking, Water Sports or Boating, Visit museums...   \n",
       "\n",
       "                                              places  \\\n",
       "0  Pangong Tso Lake, Shanti Stupa, Tiger Hill, Kh...   \n",
       "1  Pangong Tso Lake, Shanti Stupa, Royal Leh Pala...   \n",
       "2  Pangong Tso Lake, Shanti Stupa, Tiger Hill, Kh...   \n",
       "3                       Pangong Tso Lake, Gol Market   \n",
       "4  Pangong Tso Lake, Shanti Stupa, Tiger Hill, Kh...   \n",
       "\n",
       "   Food and beverages(restaurant)  Accessibility to public transport  \\\n",
       "0                        9.000000                           8.000000   \n",
       "1                        9.000000                           6.000000   \n",
       "2                        8.153846                           7.153846   \n",
       "3                        9.000000                           9.000000   \n",
       "4                        8.153846                           7.153846   \n",
       "\n",
       "   Hotel facilities  Price of goods and services  userid  \n",
       "0         10.000000                     8.000000       1  \n",
       "1          7.000000                     7.000000       2  \n",
       "2          8.269231                     7.884615       3  \n",
       "3          7.000000                    10.000000       4  \n",
       "4          8.269231                     7.884615       5  "
      ]
     },
     "execution_count": 12,
     "metadata": {},
     "output_type": "execute_result"
    }
   ],
   "source": [
    "user_data.head()"
   ]
  },
  {
   "cell_type": "code",
   "execution_count": 13,
   "metadata": {},
   "outputs": [
    {
     "data": {
      "text/plain": [
       "(104, 13)"
      ]
     },
     "execution_count": 13,
     "metadata": {},
     "output_type": "execute_result"
    }
   ],
   "source": [
    "user_data.shape"
   ]
  },
  {
   "cell_type": "code",
   "execution_count": 109,
   "metadata": {},
   "outputs": [],
   "source": [
    "item = []\n",
    "for i in range(len(attractions['Name'])):\n",
    "    item.append(i + 1)"
   ]
  },
  {
   "cell_type": "code",
   "execution_count": 110,
   "metadata": {},
   "outputs": [],
   "source": [
    "attractions['itemid'] = item"
   ]
  },
  {
   "cell_type": "code",
   "execution_count": 111,
   "metadata": {},
   "outputs": [
    {
     "ename": "KeyError",
     "evalue": "\"['Description'] not found in axis\"",
     "output_type": "error",
     "traceback": [
      "\u001b[0;31m---------------------------------------------------------------------------\u001b[0m",
      "\u001b[0;31mKeyError\u001b[0m                                  Traceback (most recent call last)",
      "\u001b[0;32m<ipython-input-111-0a1b9a2f1a13>\u001b[0m in \u001b[0;36m<module>\u001b[0;34m\u001b[0m\n\u001b[0;32m----> 1\u001b[0;31m \u001b[0mattractions\u001b[0m\u001b[0;34m.\u001b[0m\u001b[0mdrop\u001b[0m\u001b[0;34m(\u001b[0m\u001b[0;34m[\u001b[0m\u001b[0;34m'Description'\u001b[0m\u001b[0;34m]\u001b[0m\u001b[0;34m,\u001b[0m \u001b[0maxis\u001b[0m\u001b[0;34m=\u001b[0m\u001b[0;36m1\u001b[0m\u001b[0;34m,\u001b[0m \u001b[0minplace\u001b[0m\u001b[0;34m=\u001b[0m\u001b[0;32mTrue\u001b[0m\u001b[0;34m)\u001b[0m\u001b[0;34m\u001b[0m\u001b[0;34m\u001b[0m\u001b[0m\n\u001b[0m",
      "\u001b[0;32m~/miniconda3/lib/python3.7/site-packages/pandas/core/frame.py\u001b[0m in \u001b[0;36mdrop\u001b[0;34m(self, labels, axis, index, columns, level, inplace, errors)\u001b[0m\n\u001b[1;32m   3995\u001b[0m             \u001b[0mlevel\u001b[0m\u001b[0;34m=\u001b[0m\u001b[0mlevel\u001b[0m\u001b[0;34m,\u001b[0m\u001b[0;34m\u001b[0m\u001b[0;34m\u001b[0m\u001b[0m\n\u001b[1;32m   3996\u001b[0m             \u001b[0minplace\u001b[0m\u001b[0;34m=\u001b[0m\u001b[0minplace\u001b[0m\u001b[0;34m,\u001b[0m\u001b[0;34m\u001b[0m\u001b[0;34m\u001b[0m\u001b[0m\n\u001b[0;32m-> 3997\u001b[0;31m             \u001b[0merrors\u001b[0m\u001b[0;34m=\u001b[0m\u001b[0merrors\u001b[0m\u001b[0;34m,\u001b[0m\u001b[0;34m\u001b[0m\u001b[0;34m\u001b[0m\u001b[0m\n\u001b[0m\u001b[1;32m   3998\u001b[0m         )\n\u001b[1;32m   3999\u001b[0m \u001b[0;34m\u001b[0m\u001b[0m\n",
      "\u001b[0;32m~/miniconda3/lib/python3.7/site-packages/pandas/core/generic.py\u001b[0m in \u001b[0;36mdrop\u001b[0;34m(self, labels, axis, index, columns, level, inplace, errors)\u001b[0m\n\u001b[1;32m   3934\u001b[0m         \u001b[0;32mfor\u001b[0m \u001b[0maxis\u001b[0m\u001b[0;34m,\u001b[0m \u001b[0mlabels\u001b[0m \u001b[0;32min\u001b[0m \u001b[0maxes\u001b[0m\u001b[0;34m.\u001b[0m\u001b[0mitems\u001b[0m\u001b[0;34m(\u001b[0m\u001b[0;34m)\u001b[0m\u001b[0;34m:\u001b[0m\u001b[0;34m\u001b[0m\u001b[0;34m\u001b[0m\u001b[0m\n\u001b[1;32m   3935\u001b[0m             \u001b[0;32mif\u001b[0m \u001b[0mlabels\u001b[0m \u001b[0;32mis\u001b[0m \u001b[0;32mnot\u001b[0m \u001b[0;32mNone\u001b[0m\u001b[0;34m:\u001b[0m\u001b[0;34m\u001b[0m\u001b[0;34m\u001b[0m\u001b[0m\n\u001b[0;32m-> 3936\u001b[0;31m                 \u001b[0mobj\u001b[0m \u001b[0;34m=\u001b[0m \u001b[0mobj\u001b[0m\u001b[0;34m.\u001b[0m\u001b[0m_drop_axis\u001b[0m\u001b[0;34m(\u001b[0m\u001b[0mlabels\u001b[0m\u001b[0;34m,\u001b[0m \u001b[0maxis\u001b[0m\u001b[0;34m,\u001b[0m \u001b[0mlevel\u001b[0m\u001b[0;34m=\u001b[0m\u001b[0mlevel\u001b[0m\u001b[0;34m,\u001b[0m \u001b[0merrors\u001b[0m\u001b[0;34m=\u001b[0m\u001b[0merrors\u001b[0m\u001b[0;34m)\u001b[0m\u001b[0;34m\u001b[0m\u001b[0;34m\u001b[0m\u001b[0m\n\u001b[0m\u001b[1;32m   3937\u001b[0m \u001b[0;34m\u001b[0m\u001b[0m\n\u001b[1;32m   3938\u001b[0m         \u001b[0;32mif\u001b[0m \u001b[0minplace\u001b[0m\u001b[0;34m:\u001b[0m\u001b[0;34m\u001b[0m\u001b[0;34m\u001b[0m\u001b[0m\n",
      "\u001b[0;32m~/miniconda3/lib/python3.7/site-packages/pandas/core/generic.py\u001b[0m in \u001b[0;36m_drop_axis\u001b[0;34m(self, labels, axis, level, errors)\u001b[0m\n\u001b[1;32m   3968\u001b[0m                 \u001b[0mnew_axis\u001b[0m \u001b[0;34m=\u001b[0m \u001b[0maxis\u001b[0m\u001b[0;34m.\u001b[0m\u001b[0mdrop\u001b[0m\u001b[0;34m(\u001b[0m\u001b[0mlabels\u001b[0m\u001b[0;34m,\u001b[0m \u001b[0mlevel\u001b[0m\u001b[0;34m=\u001b[0m\u001b[0mlevel\u001b[0m\u001b[0;34m,\u001b[0m \u001b[0merrors\u001b[0m\u001b[0;34m=\u001b[0m\u001b[0merrors\u001b[0m\u001b[0;34m)\u001b[0m\u001b[0;34m\u001b[0m\u001b[0;34m\u001b[0m\u001b[0m\n\u001b[1;32m   3969\u001b[0m             \u001b[0;32melse\u001b[0m\u001b[0;34m:\u001b[0m\u001b[0;34m\u001b[0m\u001b[0;34m\u001b[0m\u001b[0m\n\u001b[0;32m-> 3970\u001b[0;31m                 \u001b[0mnew_axis\u001b[0m \u001b[0;34m=\u001b[0m \u001b[0maxis\u001b[0m\u001b[0;34m.\u001b[0m\u001b[0mdrop\u001b[0m\u001b[0;34m(\u001b[0m\u001b[0mlabels\u001b[0m\u001b[0;34m,\u001b[0m \u001b[0merrors\u001b[0m\u001b[0;34m=\u001b[0m\u001b[0merrors\u001b[0m\u001b[0;34m)\u001b[0m\u001b[0;34m\u001b[0m\u001b[0;34m\u001b[0m\u001b[0m\n\u001b[0m\u001b[1;32m   3971\u001b[0m             \u001b[0mresult\u001b[0m \u001b[0;34m=\u001b[0m \u001b[0mself\u001b[0m\u001b[0;34m.\u001b[0m\u001b[0mreindex\u001b[0m\u001b[0;34m(\u001b[0m\u001b[0;34m**\u001b[0m\u001b[0;34m{\u001b[0m\u001b[0maxis_name\u001b[0m\u001b[0;34m:\u001b[0m \u001b[0mnew_axis\u001b[0m\u001b[0;34m}\u001b[0m\u001b[0;34m)\u001b[0m\u001b[0;34m\u001b[0m\u001b[0;34m\u001b[0m\u001b[0m\n\u001b[1;32m   3972\u001b[0m \u001b[0;34m\u001b[0m\u001b[0m\n",
      "\u001b[0;32m~/miniconda3/lib/python3.7/site-packages/pandas/core/indexes/base.py\u001b[0m in \u001b[0;36mdrop\u001b[0;34m(self, labels, errors)\u001b[0m\n\u001b[1;32m   5015\u001b[0m         \u001b[0;32mif\u001b[0m \u001b[0mmask\u001b[0m\u001b[0;34m.\u001b[0m\u001b[0many\u001b[0m\u001b[0;34m(\u001b[0m\u001b[0;34m)\u001b[0m\u001b[0;34m:\u001b[0m\u001b[0;34m\u001b[0m\u001b[0;34m\u001b[0m\u001b[0m\n\u001b[1;32m   5016\u001b[0m             \u001b[0;32mif\u001b[0m \u001b[0merrors\u001b[0m \u001b[0;34m!=\u001b[0m \u001b[0;34m\"ignore\"\u001b[0m\u001b[0;34m:\u001b[0m\u001b[0;34m\u001b[0m\u001b[0;34m\u001b[0m\u001b[0m\n\u001b[0;32m-> 5017\u001b[0;31m                 \u001b[0;32mraise\u001b[0m \u001b[0mKeyError\u001b[0m\u001b[0;34m(\u001b[0m\u001b[0;34mf\"{labels[mask]} not found in axis\"\u001b[0m\u001b[0;34m)\u001b[0m\u001b[0;34m\u001b[0m\u001b[0;34m\u001b[0m\u001b[0m\n\u001b[0m\u001b[1;32m   5018\u001b[0m             \u001b[0mindexer\u001b[0m \u001b[0;34m=\u001b[0m \u001b[0mindexer\u001b[0m\u001b[0;34m[\u001b[0m\u001b[0;34m~\u001b[0m\u001b[0mmask\u001b[0m\u001b[0;34m]\u001b[0m\u001b[0;34m\u001b[0m\u001b[0;34m\u001b[0m\u001b[0m\n\u001b[1;32m   5019\u001b[0m         \u001b[0;32mreturn\u001b[0m \u001b[0mself\u001b[0m\u001b[0;34m.\u001b[0m\u001b[0mdelete\u001b[0m\u001b[0;34m(\u001b[0m\u001b[0mindexer\u001b[0m\u001b[0;34m)\u001b[0m\u001b[0;34m\u001b[0m\u001b[0;34m\u001b[0m\u001b[0m\n",
      "\u001b[0;31mKeyError\u001b[0m: \"['Description'] not found in axis\""
     ]
    }
   ],
   "source": [
    "attractions.drop(['Description'], axis=1, inplace=True)"
   ]
  },
  {
   "cell_type": "code",
   "execution_count": 17,
   "metadata": {},
   "outputs": [
    {
     "data": {
      "text/plain": [
       "Name             0\n",
       "Category         0\n",
       "attraction_id    0\n",
       "dtype: int64"
      ]
     },
     "execution_count": 17,
     "metadata": {},
     "output_type": "execute_result"
    }
   ],
   "source": [
    "attractions.isnull().sum()"
   ]
  },
  {
   "cell_type": "code",
   "execution_count": 113,
   "metadata": {},
   "outputs": [],
   "source": [
    "attractions.drop(['attraction_id'], axis=1, inplace=True)"
   ]
  },
  {
   "cell_type": "code",
   "execution_count": 114,
   "metadata": {},
   "outputs": [
    {
     "data": {
      "text/html": [
       "<div>\n",
       "<style scoped>\n",
       "    .dataframe tbody tr th:only-of-type {\n",
       "        vertical-align: middle;\n",
       "    }\n",
       "\n",
       "    .dataframe tbody tr th {\n",
       "        vertical-align: top;\n",
       "    }\n",
       "\n",
       "    .dataframe thead th {\n",
       "        text-align: right;\n",
       "    }\n",
       "</style>\n",
       "<table border=\"1\" class=\"dataframe\">\n",
       "  <thead>\n",
       "    <tr style=\"text-align: right;\">\n",
       "      <th></th>\n",
       "      <th>Name</th>\n",
       "      <th>Category</th>\n",
       "      <th>itemid</th>\n",
       "    </tr>\n",
       "  </thead>\n",
       "  <tbody>\n",
       "    <tr>\n",
       "      <th>0</th>\n",
       "      <td>Pangong Tso Lake</td>\n",
       "      <td>Nature &amp; Parks</td>\n",
       "      <td>1</td>\n",
       "    </tr>\n",
       "    <tr>\n",
       "      <th>1</th>\n",
       "      <td>Shanti Stupa</td>\n",
       "      <td>Sights &amp; Landmarks</td>\n",
       "      <td>2</td>\n",
       "    </tr>\n",
       "    <tr>\n",
       "      <th>2</th>\n",
       "      <td>Tiger Hill</td>\n",
       "      <td>Nature &amp; Parks</td>\n",
       "      <td>3</td>\n",
       "    </tr>\n",
       "    <tr>\n",
       "      <th>3</th>\n",
       "      <td>Khardung-la pass</td>\n",
       "      <td>Nature &amp; Parks</td>\n",
       "      <td>4</td>\n",
       "    </tr>\n",
       "    <tr>\n",
       "      <th>4</th>\n",
       "      <td>Royal Leh Palace</td>\n",
       "      <td>Sights &amp; Landmarks</td>\n",
       "      <td>5</td>\n",
       "    </tr>\n",
       "  </tbody>\n",
       "</table>\n",
       "</div>"
      ],
      "text/plain": [
       "               Name            Category  itemid\n",
       "0  Pangong Tso Lake      Nature & Parks       1\n",
       "1      Shanti Stupa  Sights & Landmarks       2\n",
       "2        Tiger Hill      Nature & Parks       3\n",
       "3  Khardung-la pass      Nature & Parks       4\n",
       "4  Royal Leh Palace  Sights & Landmarks       5"
      ]
     },
     "execution_count": 114,
     "metadata": {},
     "output_type": "execute_result"
    }
   ],
   "source": [
    "attractions.head()"
   ]
  },
  {
   "cell_type": "code",
   "execution_count": 19,
   "metadata": {},
   "outputs": [
    {
     "data": {
      "text/plain": [
       "(20, 3)"
      ]
     },
     "execution_count": 19,
     "metadata": {},
     "output_type": "execute_result"
    }
   ],
   "source": [
    "attractions.shape"
   ]
  },
  {
   "cell_type": "code",
   "execution_count": 20,
   "metadata": {},
   "outputs": [],
   "source": [
    "user = []\n",
    "item = []\n",
    "for i in range(1,105):\n",
    "    for j in range(1,21):\n",
    "        user.append(i)\n",
    "        item.append(j)"
   ]
  },
  {
   "cell_type": "code",
   "execution_count": 21,
   "metadata": {},
   "outputs": [],
   "source": [
    "df = pd.DataFrame(\n",
    "    {\n",
    "        'userid': user,\n",
    "        'itemid': item\n",
    "    }\n",
    ")"
   ]
  },
  {
   "cell_type": "code",
   "execution_count": 22,
   "metadata": {},
   "outputs": [
    {
     "data": {
      "text/html": [
       "<div>\n",
       "<style scoped>\n",
       "    .dataframe tbody tr th:only-of-type {\n",
       "        vertical-align: middle;\n",
       "    }\n",
       "\n",
       "    .dataframe tbody tr th {\n",
       "        vertical-align: top;\n",
       "    }\n",
       "\n",
       "    .dataframe thead th {\n",
       "        text-align: right;\n",
       "    }\n",
       "</style>\n",
       "<table border=\"1\" class=\"dataframe\">\n",
       "  <thead>\n",
       "    <tr style=\"text-align: right;\">\n",
       "      <th></th>\n",
       "      <th>userid</th>\n",
       "      <th>itemid</th>\n",
       "    </tr>\n",
       "  </thead>\n",
       "  <tbody>\n",
       "    <tr>\n",
       "      <th>0</th>\n",
       "      <td>1</td>\n",
       "      <td>1</td>\n",
       "    </tr>\n",
       "    <tr>\n",
       "      <th>1</th>\n",
       "      <td>1</td>\n",
       "      <td>2</td>\n",
       "    </tr>\n",
       "    <tr>\n",
       "      <th>2</th>\n",
       "      <td>1</td>\n",
       "      <td>3</td>\n",
       "    </tr>\n",
       "    <tr>\n",
       "      <th>3</th>\n",
       "      <td>1</td>\n",
       "      <td>4</td>\n",
       "    </tr>\n",
       "    <tr>\n",
       "      <th>4</th>\n",
       "      <td>1</td>\n",
       "      <td>5</td>\n",
       "    </tr>\n",
       "  </tbody>\n",
       "</table>\n",
       "</div>"
      ],
      "text/plain": [
       "   userid  itemid\n",
       "0       1       1\n",
       "1       1       2\n",
       "2       1       3\n",
       "3       1       4\n",
       "4       1       5"
      ]
     },
     "execution_count": 22,
     "metadata": {},
     "output_type": "execute_result"
    }
   ],
   "source": [
    "df.head()"
   ]
  },
  {
   "cell_type": "code",
   "execution_count": 39,
   "metadata": {},
   "outputs": [
    {
     "name": "stderr",
     "output_type": "stream",
     "text": [
      "/home/smita/miniconda3/lib/python3.7/site-packages/ipykernel_launcher.py:1: SettingWithCopyWarning: \n",
      "A value is trying to be set on a copy of a slice from a DataFrame\n",
      "\n",
      "See the caveats in the documentation: https://pandas.pydata.org/pandas-docs/stable/user_guide/indexing.html#returning-a-view-versus-a-copy\n",
      "  \"\"\"Entry point for launching an IPython kernel.\n"
     ]
    }
   ],
   "source": [
    "attractions['Name'][0] = 'Pangong Tso Lake'"
   ]
  },
  {
   "cell_type": "code",
   "execution_count": 23,
   "metadata": {},
   "outputs": [],
   "source": [
    "user_data = user_data.assign(places=user_data.places.str.split(\",\")).explode('places')"
   ]
  },
  {
   "cell_type": "code",
   "execution_count": 24,
   "metadata": {},
   "outputs": [],
   "source": [
    "user_data.reset_index(inplace=True, drop=True)"
   ]
  },
  {
   "cell_type": "code",
   "execution_count": 25,
   "metadata": {},
   "outputs": [
    {
     "ename": "KeyError",
     "evalue": "\"['index'] not found in axis\"",
     "output_type": "error",
     "traceback": [
      "\u001b[0;31m---------------------------------------------------------------------------\u001b[0m",
      "\u001b[0;31mKeyError\u001b[0m                                  Traceback (most recent call last)",
      "\u001b[0;32m<ipython-input-25-468bf5b0880c>\u001b[0m in \u001b[0;36m<module>\u001b[0;34m\u001b[0m\n\u001b[0;32m----> 1\u001b[0;31m \u001b[0muser_data\u001b[0m\u001b[0;34m.\u001b[0m\u001b[0mdrop\u001b[0m\u001b[0;34m(\u001b[0m\u001b[0;34m'index'\u001b[0m\u001b[0;34m,\u001b[0m \u001b[0minplace\u001b[0m\u001b[0;34m=\u001b[0m\u001b[0;32mTrue\u001b[0m\u001b[0;34m,\u001b[0m \u001b[0maxis\u001b[0m\u001b[0;34m=\u001b[0m\u001b[0;36m1\u001b[0m\u001b[0;34m)\u001b[0m\u001b[0;34m\u001b[0m\u001b[0;34m\u001b[0m\u001b[0m\n\u001b[0m",
      "\u001b[0;32m~/miniconda3/lib/python3.7/site-packages/pandas/core/frame.py\u001b[0m in \u001b[0;36mdrop\u001b[0;34m(self, labels, axis, index, columns, level, inplace, errors)\u001b[0m\n\u001b[1;32m   3995\u001b[0m             \u001b[0mlevel\u001b[0m\u001b[0;34m=\u001b[0m\u001b[0mlevel\u001b[0m\u001b[0;34m,\u001b[0m\u001b[0;34m\u001b[0m\u001b[0;34m\u001b[0m\u001b[0m\n\u001b[1;32m   3996\u001b[0m             \u001b[0minplace\u001b[0m\u001b[0;34m=\u001b[0m\u001b[0minplace\u001b[0m\u001b[0;34m,\u001b[0m\u001b[0;34m\u001b[0m\u001b[0;34m\u001b[0m\u001b[0m\n\u001b[0;32m-> 3997\u001b[0;31m             \u001b[0merrors\u001b[0m\u001b[0;34m=\u001b[0m\u001b[0merrors\u001b[0m\u001b[0;34m,\u001b[0m\u001b[0;34m\u001b[0m\u001b[0;34m\u001b[0m\u001b[0m\n\u001b[0m\u001b[1;32m   3998\u001b[0m         )\n\u001b[1;32m   3999\u001b[0m \u001b[0;34m\u001b[0m\u001b[0m\n",
      "\u001b[0;32m~/miniconda3/lib/python3.7/site-packages/pandas/core/generic.py\u001b[0m in \u001b[0;36mdrop\u001b[0;34m(self, labels, axis, index, columns, level, inplace, errors)\u001b[0m\n\u001b[1;32m   3934\u001b[0m         \u001b[0;32mfor\u001b[0m \u001b[0maxis\u001b[0m\u001b[0;34m,\u001b[0m \u001b[0mlabels\u001b[0m \u001b[0;32min\u001b[0m \u001b[0maxes\u001b[0m\u001b[0;34m.\u001b[0m\u001b[0mitems\u001b[0m\u001b[0;34m(\u001b[0m\u001b[0;34m)\u001b[0m\u001b[0;34m:\u001b[0m\u001b[0;34m\u001b[0m\u001b[0;34m\u001b[0m\u001b[0m\n\u001b[1;32m   3935\u001b[0m             \u001b[0;32mif\u001b[0m \u001b[0mlabels\u001b[0m \u001b[0;32mis\u001b[0m \u001b[0;32mnot\u001b[0m \u001b[0;32mNone\u001b[0m\u001b[0;34m:\u001b[0m\u001b[0;34m\u001b[0m\u001b[0;34m\u001b[0m\u001b[0m\n\u001b[0;32m-> 3936\u001b[0;31m                 \u001b[0mobj\u001b[0m \u001b[0;34m=\u001b[0m \u001b[0mobj\u001b[0m\u001b[0;34m.\u001b[0m\u001b[0m_drop_axis\u001b[0m\u001b[0;34m(\u001b[0m\u001b[0mlabels\u001b[0m\u001b[0;34m,\u001b[0m \u001b[0maxis\u001b[0m\u001b[0;34m,\u001b[0m \u001b[0mlevel\u001b[0m\u001b[0;34m=\u001b[0m\u001b[0mlevel\u001b[0m\u001b[0;34m,\u001b[0m \u001b[0merrors\u001b[0m\u001b[0;34m=\u001b[0m\u001b[0merrors\u001b[0m\u001b[0;34m)\u001b[0m\u001b[0;34m\u001b[0m\u001b[0;34m\u001b[0m\u001b[0m\n\u001b[0m\u001b[1;32m   3937\u001b[0m \u001b[0;34m\u001b[0m\u001b[0m\n\u001b[1;32m   3938\u001b[0m         \u001b[0;32mif\u001b[0m \u001b[0minplace\u001b[0m\u001b[0;34m:\u001b[0m\u001b[0;34m\u001b[0m\u001b[0;34m\u001b[0m\u001b[0m\n",
      "\u001b[0;32m~/miniconda3/lib/python3.7/site-packages/pandas/core/generic.py\u001b[0m in \u001b[0;36m_drop_axis\u001b[0;34m(self, labels, axis, level, errors)\u001b[0m\n\u001b[1;32m   3968\u001b[0m                 \u001b[0mnew_axis\u001b[0m \u001b[0;34m=\u001b[0m \u001b[0maxis\u001b[0m\u001b[0;34m.\u001b[0m\u001b[0mdrop\u001b[0m\u001b[0;34m(\u001b[0m\u001b[0mlabels\u001b[0m\u001b[0;34m,\u001b[0m \u001b[0mlevel\u001b[0m\u001b[0;34m=\u001b[0m\u001b[0mlevel\u001b[0m\u001b[0;34m,\u001b[0m \u001b[0merrors\u001b[0m\u001b[0;34m=\u001b[0m\u001b[0merrors\u001b[0m\u001b[0;34m)\u001b[0m\u001b[0;34m\u001b[0m\u001b[0;34m\u001b[0m\u001b[0m\n\u001b[1;32m   3969\u001b[0m             \u001b[0;32melse\u001b[0m\u001b[0;34m:\u001b[0m\u001b[0;34m\u001b[0m\u001b[0;34m\u001b[0m\u001b[0m\n\u001b[0;32m-> 3970\u001b[0;31m                 \u001b[0mnew_axis\u001b[0m \u001b[0;34m=\u001b[0m \u001b[0maxis\u001b[0m\u001b[0;34m.\u001b[0m\u001b[0mdrop\u001b[0m\u001b[0;34m(\u001b[0m\u001b[0mlabels\u001b[0m\u001b[0;34m,\u001b[0m \u001b[0merrors\u001b[0m\u001b[0;34m=\u001b[0m\u001b[0merrors\u001b[0m\u001b[0;34m)\u001b[0m\u001b[0;34m\u001b[0m\u001b[0;34m\u001b[0m\u001b[0m\n\u001b[0m\u001b[1;32m   3971\u001b[0m             \u001b[0mresult\u001b[0m \u001b[0;34m=\u001b[0m \u001b[0mself\u001b[0m\u001b[0;34m.\u001b[0m\u001b[0mreindex\u001b[0m\u001b[0;34m(\u001b[0m\u001b[0;34m**\u001b[0m\u001b[0;34m{\u001b[0m\u001b[0maxis_name\u001b[0m\u001b[0;34m:\u001b[0m \u001b[0mnew_axis\u001b[0m\u001b[0;34m}\u001b[0m\u001b[0;34m)\u001b[0m\u001b[0;34m\u001b[0m\u001b[0;34m\u001b[0m\u001b[0m\n\u001b[1;32m   3972\u001b[0m \u001b[0;34m\u001b[0m\u001b[0m\n",
      "\u001b[0;32m~/miniconda3/lib/python3.7/site-packages/pandas/core/indexes/base.py\u001b[0m in \u001b[0;36mdrop\u001b[0;34m(self, labels, errors)\u001b[0m\n\u001b[1;32m   5015\u001b[0m         \u001b[0;32mif\u001b[0m \u001b[0mmask\u001b[0m\u001b[0;34m.\u001b[0m\u001b[0many\u001b[0m\u001b[0;34m(\u001b[0m\u001b[0;34m)\u001b[0m\u001b[0;34m:\u001b[0m\u001b[0;34m\u001b[0m\u001b[0;34m\u001b[0m\u001b[0m\n\u001b[1;32m   5016\u001b[0m             \u001b[0;32mif\u001b[0m \u001b[0merrors\u001b[0m \u001b[0;34m!=\u001b[0m \u001b[0;34m\"ignore\"\u001b[0m\u001b[0;34m:\u001b[0m\u001b[0;34m\u001b[0m\u001b[0;34m\u001b[0m\u001b[0m\n\u001b[0;32m-> 5017\u001b[0;31m                 \u001b[0;32mraise\u001b[0m \u001b[0mKeyError\u001b[0m\u001b[0;34m(\u001b[0m\u001b[0;34mf\"{labels[mask]} not found in axis\"\u001b[0m\u001b[0;34m)\u001b[0m\u001b[0;34m\u001b[0m\u001b[0;34m\u001b[0m\u001b[0m\n\u001b[0m\u001b[1;32m   5018\u001b[0m             \u001b[0mindexer\u001b[0m \u001b[0;34m=\u001b[0m \u001b[0mindexer\u001b[0m\u001b[0;34m[\u001b[0m\u001b[0;34m~\u001b[0m\u001b[0mmask\u001b[0m\u001b[0;34m]\u001b[0m\u001b[0;34m\u001b[0m\u001b[0;34m\u001b[0m\u001b[0m\n\u001b[1;32m   5019\u001b[0m         \u001b[0;32mreturn\u001b[0m \u001b[0mself\u001b[0m\u001b[0;34m.\u001b[0m\u001b[0mdelete\u001b[0m\u001b[0;34m(\u001b[0m\u001b[0mindexer\u001b[0m\u001b[0;34m)\u001b[0m\u001b[0;34m\u001b[0m\u001b[0;34m\u001b[0m\u001b[0m\n",
      "\u001b[0;31mKeyError\u001b[0m: \"['index'] not found in axis\""
     ]
    }
   ],
   "source": [
    "user_data.drop('index', inplace=True, axis=1)"
   ]
  },
  {
   "cell_type": "code",
   "execution_count": 26,
   "metadata": {},
   "outputs": [
    {
     "data": {
      "text/html": [
       "<div>\n",
       "<style scoped>\n",
       "    .dataframe tbody tr th:only-of-type {\n",
       "        vertical-align: middle;\n",
       "    }\n",
       "\n",
       "    .dataframe tbody tr th {\n",
       "        vertical-align: top;\n",
       "    }\n",
       "\n",
       "    .dataframe thead th {\n",
       "        text-align: right;\n",
       "    }\n",
       "</style>\n",
       "<table border=\"1\" class=\"dataframe\">\n",
       "  <thead>\n",
       "    <tr style=\"text-align: right;\">\n",
       "      <th></th>\n",
       "      <th>Age</th>\n",
       "      <th>Gender</th>\n",
       "      <th>#nights</th>\n",
       "      <th>Budget/person</th>\n",
       "      <th>purpose</th>\n",
       "      <th>accomodation_type</th>\n",
       "      <th>activities</th>\n",
       "      <th>places</th>\n",
       "      <th>Food and beverages(restaurant)</th>\n",
       "      <th>Accessibility to public transport</th>\n",
       "      <th>Hotel facilities</th>\n",
       "      <th>Price of goods and services</th>\n",
       "      <th>userid</th>\n",
       "    </tr>\n",
       "  </thead>\n",
       "  <tbody>\n",
       "    <tr>\n",
       "      <th>0</th>\n",
       "      <td>21</td>\n",
       "      <td>Female</td>\n",
       "      <td>More than 5 days</td>\n",
       "      <td>Between 10k and 25k</td>\n",
       "      <td>Holiday or vacation</td>\n",
       "      <td>Hotel</td>\n",
       "      <td>Visit museums, Visit national parks, Visit his...</td>\n",
       "      <td>Pangong Tso Lake</td>\n",
       "      <td>9.0</td>\n",
       "      <td>8.0</td>\n",
       "      <td>10.0</td>\n",
       "      <td>8.0</td>\n",
       "      <td>1</td>\n",
       "    </tr>\n",
       "    <tr>\n",
       "      <th>1</th>\n",
       "      <td>21</td>\n",
       "      <td>Female</td>\n",
       "      <td>More than 5 days</td>\n",
       "      <td>Between 10k and 25k</td>\n",
       "      <td>Holiday or vacation</td>\n",
       "      <td>Hotel</td>\n",
       "      <td>Visit museums, Visit national parks, Visit his...</td>\n",
       "      <td>Shanti Stupa</td>\n",
       "      <td>9.0</td>\n",
       "      <td>8.0</td>\n",
       "      <td>10.0</td>\n",
       "      <td>8.0</td>\n",
       "      <td>1</td>\n",
       "    </tr>\n",
       "    <tr>\n",
       "      <th>2</th>\n",
       "      <td>21</td>\n",
       "      <td>Female</td>\n",
       "      <td>More than 5 days</td>\n",
       "      <td>Between 10k and 25k</td>\n",
       "      <td>Holiday or vacation</td>\n",
       "      <td>Hotel</td>\n",
       "      <td>Visit museums, Visit national parks, Visit his...</td>\n",
       "      <td>Tiger Hill</td>\n",
       "      <td>9.0</td>\n",
       "      <td>8.0</td>\n",
       "      <td>10.0</td>\n",
       "      <td>8.0</td>\n",
       "      <td>1</td>\n",
       "    </tr>\n",
       "    <tr>\n",
       "      <th>3</th>\n",
       "      <td>21</td>\n",
       "      <td>Female</td>\n",
       "      <td>More than 5 days</td>\n",
       "      <td>Between 10k and 25k</td>\n",
       "      <td>Holiday or vacation</td>\n",
       "      <td>Hotel</td>\n",
       "      <td>Visit museums, Visit national parks, Visit his...</td>\n",
       "      <td>Khardung-la Pass</td>\n",
       "      <td>9.0</td>\n",
       "      <td>8.0</td>\n",
       "      <td>10.0</td>\n",
       "      <td>8.0</td>\n",
       "      <td>1</td>\n",
       "    </tr>\n",
       "    <tr>\n",
       "      <th>4</th>\n",
       "      <td>21</td>\n",
       "      <td>Female</td>\n",
       "      <td>More than 5 days</td>\n",
       "      <td>Between 10k and 25k</td>\n",
       "      <td>Holiday or vacation</td>\n",
       "      <td>Hotel</td>\n",
       "      <td>Visit museums, Visit national parks, Visit his...</td>\n",
       "      <td>Royal Leh Palace</td>\n",
       "      <td>9.0</td>\n",
       "      <td>8.0</td>\n",
       "      <td>10.0</td>\n",
       "      <td>8.0</td>\n",
       "      <td>1</td>\n",
       "    </tr>\n",
       "  </tbody>\n",
       "</table>\n",
       "</div>"
      ],
      "text/plain": [
       "   Age  Gender           #nights        Budget/person              purpose  \\\n",
       "0   21  Female  More than 5 days  Between 10k and 25k  Holiday or vacation   \n",
       "1   21  Female  More than 5 days  Between 10k and 25k  Holiday or vacation   \n",
       "2   21  Female  More than 5 days  Between 10k and 25k  Holiday or vacation   \n",
       "3   21  Female  More than 5 days  Between 10k and 25k  Holiday or vacation   \n",
       "4   21  Female  More than 5 days  Between 10k and 25k  Holiday or vacation   \n",
       "\n",
       "  accomodation_type                                         activities  \\\n",
       "0             Hotel  Visit museums, Visit national parks, Visit his...   \n",
       "1             Hotel  Visit museums, Visit national parks, Visit his...   \n",
       "2             Hotel  Visit museums, Visit national parks, Visit his...   \n",
       "3             Hotel  Visit museums, Visit national parks, Visit his...   \n",
       "4             Hotel  Visit museums, Visit national parks, Visit his...   \n",
       "\n",
       "              places  Food and beverages(restaurant)  \\\n",
       "0   Pangong Tso Lake                             9.0   \n",
       "1       Shanti Stupa                             9.0   \n",
       "2         Tiger Hill                             9.0   \n",
       "3   Khardung-la Pass                             9.0   \n",
       "4   Royal Leh Palace                             9.0   \n",
       "\n",
       "   Accessibility to public transport  Hotel facilities  \\\n",
       "0                                8.0              10.0   \n",
       "1                                8.0              10.0   \n",
       "2                                8.0              10.0   \n",
       "3                                8.0              10.0   \n",
       "4                                8.0              10.0   \n",
       "\n",
       "   Price of goods and services  userid  \n",
       "0                          8.0       1  \n",
       "1                          8.0       1  \n",
       "2                          8.0       1  \n",
       "3                          8.0       1  \n",
       "4                          8.0       1  "
      ]
     },
     "execution_count": 26,
     "metadata": {},
     "output_type": "execute_result"
    }
   ],
   "source": [
    "user_data.head()"
   ]
  },
  {
   "cell_type": "code",
   "execution_count": 44,
   "metadata": {},
   "outputs": [
    {
     "data": {
      "text/plain": [
       "1085"
      ]
     },
     "execution_count": 44,
     "metadata": {},
     "output_type": "execute_result"
    }
   ],
   "source": [
    "(user_data.shape[0])"
   ]
  },
  {
   "cell_type": "code",
   "execution_count": 28,
   "metadata": {},
   "outputs": [
    {
     "data": {
      "text/plain": [
       "20"
      ]
     },
     "execution_count": 28,
     "metadata": {},
     "output_type": "execute_result"
    }
   ],
   "source": [
    "len(attractions['attraction_id'])"
   ]
  },
  {
   "cell_type": "code",
   "execution_count": 89,
   "metadata": {},
   "outputs": [],
   "source": [
    "item = []\n",
    "index = []\n",
    "flag = 0\n",
    "for i in range((user_data.shape[0])):\n",
    "    flag = 0\n",
    "    if(user_data['places'][i].lower()=='none'):\n",
    "        item.append('NaN')\n",
    "        continue\n",
    "    for j in range((attractions.shape[0])):\n",
    "        if((user_data['places'][i].lower().replace(\" \", \"\"))==(attractions['Name'][j].lower().replace(\" \",\"\"))):\n",
    "            item.append(attractions['attraction_id'][j])\n",
    "            flag = 1\n",
    "            index.append(i)\n",
    "    if(flag==0):\n",
    "        item.append('NaN')"
   ]
  },
  {
   "cell_type": "code",
   "execution_count": 90,
   "metadata": {},
   "outputs": [
    {
     "data": {
      "text/plain": [
       "1085"
      ]
     },
     "execution_count": 90,
     "metadata": {},
     "output_type": "execute_result"
    }
   ],
   "source": [
    "len(item)"
   ]
  },
  {
   "cell_type": "code",
   "execution_count": 91,
   "metadata": {},
   "outputs": [],
   "source": [
    "user_data['itemid'] = item"
   ]
  },
  {
   "cell_type": "code",
   "execution_count": 92,
   "metadata": {},
   "outputs": [],
   "source": [
    "data = user_data"
   ]
  },
  {
   "cell_type": "code",
   "execution_count": 93,
   "metadata": {},
   "outputs": [
    {
     "ename": "KeyError",
     "evalue": "'Food and beverages(restaurant)'",
     "output_type": "error",
     "traceback": [
      "\u001b[0;31m---------------------------------------------------------------------------\u001b[0m",
      "\u001b[0;31mKeyError\u001b[0m                                  Traceback (most recent call last)",
      "\u001b[0;32m~/miniconda3/lib/python3.7/site-packages/pandas/core/indexes/base.py\u001b[0m in \u001b[0;36mget_loc\u001b[0;34m(self, key, method, tolerance)\u001b[0m\n\u001b[1;32m   2645\u001b[0m             \u001b[0;32mtry\u001b[0m\u001b[0;34m:\u001b[0m\u001b[0;34m\u001b[0m\u001b[0;34m\u001b[0m\u001b[0m\n\u001b[0;32m-> 2646\u001b[0;31m                 \u001b[0;32mreturn\u001b[0m \u001b[0mself\u001b[0m\u001b[0;34m.\u001b[0m\u001b[0m_engine\u001b[0m\u001b[0;34m.\u001b[0m\u001b[0mget_loc\u001b[0m\u001b[0;34m(\u001b[0m\u001b[0mkey\u001b[0m\u001b[0;34m)\u001b[0m\u001b[0;34m\u001b[0m\u001b[0;34m\u001b[0m\u001b[0m\n\u001b[0m\u001b[1;32m   2647\u001b[0m             \u001b[0;32mexcept\u001b[0m \u001b[0mKeyError\u001b[0m\u001b[0;34m:\u001b[0m\u001b[0;34m\u001b[0m\u001b[0;34m\u001b[0m\u001b[0m\n",
      "\u001b[0;32mpandas/_libs/index.pyx\u001b[0m in \u001b[0;36mpandas._libs.index.IndexEngine.get_loc\u001b[0;34m()\u001b[0m\n",
      "\u001b[0;32mpandas/_libs/index.pyx\u001b[0m in \u001b[0;36mpandas._libs.index.IndexEngine.get_loc\u001b[0;34m()\u001b[0m\n",
      "\u001b[0;32mpandas/_libs/hashtable_class_helper.pxi\u001b[0m in \u001b[0;36mpandas._libs.hashtable.PyObjectHashTable.get_item\u001b[0;34m()\u001b[0m\n",
      "\u001b[0;32mpandas/_libs/hashtable_class_helper.pxi\u001b[0m in \u001b[0;36mpandas._libs.hashtable.PyObjectHashTable.get_item\u001b[0;34m()\u001b[0m\n",
      "\u001b[0;31mKeyError\u001b[0m: 'Food and beverages(restaurant)'",
      "\nDuring handling of the above exception, another exception occurred:\n",
      "\u001b[0;31mKeyError\u001b[0m                                  Traceback (most recent call last)",
      "\u001b[0;32m<ipython-input-93-a70ab5530b22>\u001b[0m in \u001b[0;36m<module>\u001b[0;34m\u001b[0m\n\u001b[0;32m----> 1\u001b[0;31m \u001b[0mdata\u001b[0m\u001b[0;34m[\u001b[0m\u001b[0;34m'rating'\u001b[0m\u001b[0;34m]\u001b[0m \u001b[0;34m=\u001b[0m \u001b[0;34m(\u001b[0m\u001b[0mdata\u001b[0m\u001b[0;34m[\u001b[0m\u001b[0;34m'Food and beverages(restaurant)'\u001b[0m\u001b[0;34m]\u001b[0m \u001b[0;34m+\u001b[0m \u001b[0mdata\u001b[0m\u001b[0;34m[\u001b[0m\u001b[0;34m'Accessibility to public transport'\u001b[0m\u001b[0;34m]\u001b[0m \u001b[0;34m+\u001b[0m \u001b[0mdata\u001b[0m\u001b[0;34m[\u001b[0m\u001b[0;34m'Hotel facilities'\u001b[0m\u001b[0;34m]\u001b[0m \u001b[0;34m+\u001b[0m \u001b[0mdata\u001b[0m\u001b[0;34m[\u001b[0m\u001b[0;34m'Price of goods and services'\u001b[0m\u001b[0;34m]\u001b[0m\u001b[0;34m)\u001b[0m\u001b[0;34m/\u001b[0m\u001b[0;36m4\u001b[0m\u001b[0;34m\u001b[0m\u001b[0;34m\u001b[0m\u001b[0m\n\u001b[0m",
      "\u001b[0;32m~/miniconda3/lib/python3.7/site-packages/pandas/core/frame.py\u001b[0m in \u001b[0;36m__getitem__\u001b[0;34m(self, key)\u001b[0m\n\u001b[1;32m   2798\u001b[0m             \u001b[0;32mif\u001b[0m \u001b[0mself\u001b[0m\u001b[0;34m.\u001b[0m\u001b[0mcolumns\u001b[0m\u001b[0;34m.\u001b[0m\u001b[0mnlevels\u001b[0m \u001b[0;34m>\u001b[0m \u001b[0;36m1\u001b[0m\u001b[0;34m:\u001b[0m\u001b[0;34m\u001b[0m\u001b[0;34m\u001b[0m\u001b[0m\n\u001b[1;32m   2799\u001b[0m                 \u001b[0;32mreturn\u001b[0m \u001b[0mself\u001b[0m\u001b[0;34m.\u001b[0m\u001b[0m_getitem_multilevel\u001b[0m\u001b[0;34m(\u001b[0m\u001b[0mkey\u001b[0m\u001b[0;34m)\u001b[0m\u001b[0;34m\u001b[0m\u001b[0;34m\u001b[0m\u001b[0m\n\u001b[0;32m-> 2800\u001b[0;31m             \u001b[0mindexer\u001b[0m \u001b[0;34m=\u001b[0m \u001b[0mself\u001b[0m\u001b[0;34m.\u001b[0m\u001b[0mcolumns\u001b[0m\u001b[0;34m.\u001b[0m\u001b[0mget_loc\u001b[0m\u001b[0;34m(\u001b[0m\u001b[0mkey\u001b[0m\u001b[0;34m)\u001b[0m\u001b[0;34m\u001b[0m\u001b[0;34m\u001b[0m\u001b[0m\n\u001b[0m\u001b[1;32m   2801\u001b[0m             \u001b[0;32mif\u001b[0m \u001b[0mis_integer\u001b[0m\u001b[0;34m(\u001b[0m\u001b[0mindexer\u001b[0m\u001b[0;34m)\u001b[0m\u001b[0;34m:\u001b[0m\u001b[0;34m\u001b[0m\u001b[0;34m\u001b[0m\u001b[0m\n\u001b[1;32m   2802\u001b[0m                 \u001b[0mindexer\u001b[0m \u001b[0;34m=\u001b[0m \u001b[0;34m[\u001b[0m\u001b[0mindexer\u001b[0m\u001b[0;34m]\u001b[0m\u001b[0;34m\u001b[0m\u001b[0;34m\u001b[0m\u001b[0m\n",
      "\u001b[0;32m~/miniconda3/lib/python3.7/site-packages/pandas/core/indexes/base.py\u001b[0m in \u001b[0;36mget_loc\u001b[0;34m(self, key, method, tolerance)\u001b[0m\n\u001b[1;32m   2646\u001b[0m                 \u001b[0;32mreturn\u001b[0m \u001b[0mself\u001b[0m\u001b[0;34m.\u001b[0m\u001b[0m_engine\u001b[0m\u001b[0;34m.\u001b[0m\u001b[0mget_loc\u001b[0m\u001b[0;34m(\u001b[0m\u001b[0mkey\u001b[0m\u001b[0;34m)\u001b[0m\u001b[0;34m\u001b[0m\u001b[0;34m\u001b[0m\u001b[0m\n\u001b[1;32m   2647\u001b[0m             \u001b[0;32mexcept\u001b[0m \u001b[0mKeyError\u001b[0m\u001b[0;34m:\u001b[0m\u001b[0;34m\u001b[0m\u001b[0;34m\u001b[0m\u001b[0m\n\u001b[0;32m-> 2648\u001b[0;31m                 \u001b[0;32mreturn\u001b[0m \u001b[0mself\u001b[0m\u001b[0;34m.\u001b[0m\u001b[0m_engine\u001b[0m\u001b[0;34m.\u001b[0m\u001b[0mget_loc\u001b[0m\u001b[0;34m(\u001b[0m\u001b[0mself\u001b[0m\u001b[0;34m.\u001b[0m\u001b[0m_maybe_cast_indexer\u001b[0m\u001b[0;34m(\u001b[0m\u001b[0mkey\u001b[0m\u001b[0;34m)\u001b[0m\u001b[0;34m)\u001b[0m\u001b[0;34m\u001b[0m\u001b[0;34m\u001b[0m\u001b[0m\n\u001b[0m\u001b[1;32m   2649\u001b[0m         \u001b[0mindexer\u001b[0m \u001b[0;34m=\u001b[0m \u001b[0mself\u001b[0m\u001b[0;34m.\u001b[0m\u001b[0mget_indexer\u001b[0m\u001b[0;34m(\u001b[0m\u001b[0;34m[\u001b[0m\u001b[0mkey\u001b[0m\u001b[0;34m]\u001b[0m\u001b[0;34m,\u001b[0m \u001b[0mmethod\u001b[0m\u001b[0;34m=\u001b[0m\u001b[0mmethod\u001b[0m\u001b[0;34m,\u001b[0m \u001b[0mtolerance\u001b[0m\u001b[0;34m=\u001b[0m\u001b[0mtolerance\u001b[0m\u001b[0;34m)\u001b[0m\u001b[0;34m\u001b[0m\u001b[0;34m\u001b[0m\u001b[0m\n\u001b[1;32m   2650\u001b[0m         \u001b[0;32mif\u001b[0m \u001b[0mindexer\u001b[0m\u001b[0;34m.\u001b[0m\u001b[0mndim\u001b[0m \u001b[0;34m>\u001b[0m \u001b[0;36m1\u001b[0m \u001b[0;32mor\u001b[0m \u001b[0mindexer\u001b[0m\u001b[0;34m.\u001b[0m\u001b[0msize\u001b[0m \u001b[0;34m>\u001b[0m \u001b[0;36m1\u001b[0m\u001b[0;34m:\u001b[0m\u001b[0;34m\u001b[0m\u001b[0;34m\u001b[0m\u001b[0m\n",
      "\u001b[0;32mpandas/_libs/index.pyx\u001b[0m in \u001b[0;36mpandas._libs.index.IndexEngine.get_loc\u001b[0;34m()\u001b[0m\n",
      "\u001b[0;32mpandas/_libs/index.pyx\u001b[0m in \u001b[0;36mpandas._libs.index.IndexEngine.get_loc\u001b[0;34m()\u001b[0m\n",
      "\u001b[0;32mpandas/_libs/hashtable_class_helper.pxi\u001b[0m in \u001b[0;36mpandas._libs.hashtable.PyObjectHashTable.get_item\u001b[0;34m()\u001b[0m\n",
      "\u001b[0;32mpandas/_libs/hashtable_class_helper.pxi\u001b[0m in \u001b[0;36mpandas._libs.hashtable.PyObjectHashTable.get_item\u001b[0;34m()\u001b[0m\n",
      "\u001b[0;31mKeyError\u001b[0m: 'Food and beverages(restaurant)'"
     ]
    }
   ],
   "source": [
    "data['rating'] = (data['Food and beverages(restaurant)'] + data['Accessibility to public transport'] + data['Hotel facilities'] + data['Price of goods and services'])/4"
   ]
  },
  {
   "cell_type": "code",
   "execution_count": 94,
   "metadata": {},
   "outputs": [
    {
     "data": {
      "text/html": [
       "<div>\n",
       "<style scoped>\n",
       "    .dataframe tbody tr th:only-of-type {\n",
       "        vertical-align: middle;\n",
       "    }\n",
       "\n",
       "    .dataframe tbody tr th {\n",
       "        vertical-align: top;\n",
       "    }\n",
       "\n",
       "    .dataframe thead th {\n",
       "        text-align: right;\n",
       "    }\n",
       "</style>\n",
       "<table border=\"1\" class=\"dataframe\">\n",
       "  <thead>\n",
       "    <tr style=\"text-align: right;\">\n",
       "      <th></th>\n",
       "      <th>Age</th>\n",
       "      <th>Gender</th>\n",
       "      <th>#nights</th>\n",
       "      <th>Budget/person</th>\n",
       "      <th>purpose</th>\n",
       "      <th>accomodation_type</th>\n",
       "      <th>activities</th>\n",
       "      <th>places</th>\n",
       "      <th>userid</th>\n",
       "      <th>itemid</th>\n",
       "      <th>rating</th>\n",
       "    </tr>\n",
       "  </thead>\n",
       "  <tbody>\n",
       "    <tr>\n",
       "      <th>0</th>\n",
       "      <td>21</td>\n",
       "      <td>Female</td>\n",
       "      <td>More than 5 days</td>\n",
       "      <td>Between 10k and 25k</td>\n",
       "      <td>Holiday or vacation</td>\n",
       "      <td>Hotel</td>\n",
       "      <td>Visit museums, Visit national parks, Visit his...</td>\n",
       "      <td>Pangong Tso Lake</td>\n",
       "      <td>1</td>\n",
       "      <td>1</td>\n",
       "      <td>8.75</td>\n",
       "    </tr>\n",
       "    <tr>\n",
       "      <th>1</th>\n",
       "      <td>21</td>\n",
       "      <td>Female</td>\n",
       "      <td>More than 5 days</td>\n",
       "      <td>Between 10k and 25k</td>\n",
       "      <td>Holiday or vacation</td>\n",
       "      <td>Hotel</td>\n",
       "      <td>Visit museums, Visit national parks, Visit his...</td>\n",
       "      <td>Shanti Stupa</td>\n",
       "      <td>1</td>\n",
       "      <td>2</td>\n",
       "      <td>8.75</td>\n",
       "    </tr>\n",
       "    <tr>\n",
       "      <th>2</th>\n",
       "      <td>21</td>\n",
       "      <td>Female</td>\n",
       "      <td>More than 5 days</td>\n",
       "      <td>Between 10k and 25k</td>\n",
       "      <td>Holiday or vacation</td>\n",
       "      <td>Hotel</td>\n",
       "      <td>Visit museums, Visit national parks, Visit his...</td>\n",
       "      <td>Tiger Hill</td>\n",
       "      <td>1</td>\n",
       "      <td>3</td>\n",
       "      <td>8.75</td>\n",
       "    </tr>\n",
       "    <tr>\n",
       "      <th>3</th>\n",
       "      <td>21</td>\n",
       "      <td>Female</td>\n",
       "      <td>More than 5 days</td>\n",
       "      <td>Between 10k and 25k</td>\n",
       "      <td>Holiday or vacation</td>\n",
       "      <td>Hotel</td>\n",
       "      <td>Visit museums, Visit national parks, Visit his...</td>\n",
       "      <td>Khardung-la Pass</td>\n",
       "      <td>1</td>\n",
       "      <td>4</td>\n",
       "      <td>8.75</td>\n",
       "    </tr>\n",
       "    <tr>\n",
       "      <th>4</th>\n",
       "      <td>21</td>\n",
       "      <td>Female</td>\n",
       "      <td>More than 5 days</td>\n",
       "      <td>Between 10k and 25k</td>\n",
       "      <td>Holiday or vacation</td>\n",
       "      <td>Hotel</td>\n",
       "      <td>Visit museums, Visit national parks, Visit his...</td>\n",
       "      <td>Royal Leh Palace</td>\n",
       "      <td>1</td>\n",
       "      <td>5</td>\n",
       "      <td>8.75</td>\n",
       "    </tr>\n",
       "  </tbody>\n",
       "</table>\n",
       "</div>"
      ],
      "text/plain": [
       "   Age  Gender           #nights        Budget/person              purpose  \\\n",
       "0   21  Female  More than 5 days  Between 10k and 25k  Holiday or vacation   \n",
       "1   21  Female  More than 5 days  Between 10k and 25k  Holiday or vacation   \n",
       "2   21  Female  More than 5 days  Between 10k and 25k  Holiday or vacation   \n",
       "3   21  Female  More than 5 days  Between 10k and 25k  Holiday or vacation   \n",
       "4   21  Female  More than 5 days  Between 10k and 25k  Holiday or vacation   \n",
       "\n",
       "  accomodation_type                                         activities  \\\n",
       "0             Hotel  Visit museums, Visit national parks, Visit his...   \n",
       "1             Hotel  Visit museums, Visit national parks, Visit his...   \n",
       "2             Hotel  Visit museums, Visit national parks, Visit his...   \n",
       "3             Hotel  Visit museums, Visit national parks, Visit his...   \n",
       "4             Hotel  Visit museums, Visit national parks, Visit his...   \n",
       "\n",
       "              places  userid itemid  rating  \n",
       "0   Pangong Tso Lake       1      1    8.75  \n",
       "1       Shanti Stupa       1      2    8.75  \n",
       "2         Tiger Hill       1      3    8.75  \n",
       "3   Khardung-la Pass       1      4    8.75  \n",
       "4   Royal Leh Palace       1      5    8.75  "
      ]
     },
     "execution_count": 94,
     "metadata": {},
     "output_type": "execute_result"
    }
   ],
   "source": [
    "data.head()"
   ]
  },
  {
   "cell_type": "code",
   "execution_count": 95,
   "metadata": {},
   "outputs": [
    {
     "ename": "KeyError",
     "evalue": "\"['Food and beverages(restaurant)' 'Accessibility to public transport'\\n 'Hotel facilities' 'Price of goods and services'] not found in axis\"",
     "output_type": "error",
     "traceback": [
      "\u001b[0;31m---------------------------------------------------------------------------\u001b[0m",
      "\u001b[0;31mKeyError\u001b[0m                                  Traceback (most recent call last)",
      "\u001b[0;32m<ipython-input-95-e31f4fc1af51>\u001b[0m in \u001b[0;36m<module>\u001b[0;34m\u001b[0m\n\u001b[0;32m----> 1\u001b[0;31m \u001b[0mdata\u001b[0m\u001b[0;34m.\u001b[0m\u001b[0mdrop\u001b[0m\u001b[0;34m(\u001b[0m\u001b[0;34m[\u001b[0m\u001b[0;34m'Food and beverages(restaurant)'\u001b[0m\u001b[0;34m,\u001b[0m \u001b[0;34m'Accessibility to public transport'\u001b[0m\u001b[0;34m,\u001b[0m \u001b[0;34m'Hotel facilities'\u001b[0m\u001b[0;34m,\u001b[0m \u001b[0;34m'Price of goods and services'\u001b[0m\u001b[0;34m]\u001b[0m\u001b[0;34m,\u001b[0m \u001b[0minplace\u001b[0m\u001b[0;34m=\u001b[0m\u001b[0;32mTrue\u001b[0m\u001b[0;34m,\u001b[0m \u001b[0maxis\u001b[0m\u001b[0;34m=\u001b[0m\u001b[0;36m1\u001b[0m\u001b[0;34m)\u001b[0m\u001b[0;34m\u001b[0m\u001b[0;34m\u001b[0m\u001b[0m\n\u001b[0m",
      "\u001b[0;32m~/miniconda3/lib/python3.7/site-packages/pandas/core/frame.py\u001b[0m in \u001b[0;36mdrop\u001b[0;34m(self, labels, axis, index, columns, level, inplace, errors)\u001b[0m\n\u001b[1;32m   3995\u001b[0m             \u001b[0mlevel\u001b[0m\u001b[0;34m=\u001b[0m\u001b[0mlevel\u001b[0m\u001b[0;34m,\u001b[0m\u001b[0;34m\u001b[0m\u001b[0;34m\u001b[0m\u001b[0m\n\u001b[1;32m   3996\u001b[0m             \u001b[0minplace\u001b[0m\u001b[0;34m=\u001b[0m\u001b[0minplace\u001b[0m\u001b[0;34m,\u001b[0m\u001b[0;34m\u001b[0m\u001b[0;34m\u001b[0m\u001b[0m\n\u001b[0;32m-> 3997\u001b[0;31m             \u001b[0merrors\u001b[0m\u001b[0;34m=\u001b[0m\u001b[0merrors\u001b[0m\u001b[0;34m,\u001b[0m\u001b[0;34m\u001b[0m\u001b[0;34m\u001b[0m\u001b[0m\n\u001b[0m\u001b[1;32m   3998\u001b[0m         )\n\u001b[1;32m   3999\u001b[0m \u001b[0;34m\u001b[0m\u001b[0m\n",
      "\u001b[0;32m~/miniconda3/lib/python3.7/site-packages/pandas/core/generic.py\u001b[0m in \u001b[0;36mdrop\u001b[0;34m(self, labels, axis, index, columns, level, inplace, errors)\u001b[0m\n\u001b[1;32m   3934\u001b[0m         \u001b[0;32mfor\u001b[0m \u001b[0maxis\u001b[0m\u001b[0;34m,\u001b[0m \u001b[0mlabels\u001b[0m \u001b[0;32min\u001b[0m \u001b[0maxes\u001b[0m\u001b[0;34m.\u001b[0m\u001b[0mitems\u001b[0m\u001b[0;34m(\u001b[0m\u001b[0;34m)\u001b[0m\u001b[0;34m:\u001b[0m\u001b[0;34m\u001b[0m\u001b[0;34m\u001b[0m\u001b[0m\n\u001b[1;32m   3935\u001b[0m             \u001b[0;32mif\u001b[0m \u001b[0mlabels\u001b[0m \u001b[0;32mis\u001b[0m \u001b[0;32mnot\u001b[0m \u001b[0;32mNone\u001b[0m\u001b[0;34m:\u001b[0m\u001b[0;34m\u001b[0m\u001b[0;34m\u001b[0m\u001b[0m\n\u001b[0;32m-> 3936\u001b[0;31m                 \u001b[0mobj\u001b[0m \u001b[0;34m=\u001b[0m \u001b[0mobj\u001b[0m\u001b[0;34m.\u001b[0m\u001b[0m_drop_axis\u001b[0m\u001b[0;34m(\u001b[0m\u001b[0mlabels\u001b[0m\u001b[0;34m,\u001b[0m \u001b[0maxis\u001b[0m\u001b[0;34m,\u001b[0m \u001b[0mlevel\u001b[0m\u001b[0;34m=\u001b[0m\u001b[0mlevel\u001b[0m\u001b[0;34m,\u001b[0m \u001b[0merrors\u001b[0m\u001b[0;34m=\u001b[0m\u001b[0merrors\u001b[0m\u001b[0;34m)\u001b[0m\u001b[0;34m\u001b[0m\u001b[0;34m\u001b[0m\u001b[0m\n\u001b[0m\u001b[1;32m   3937\u001b[0m \u001b[0;34m\u001b[0m\u001b[0m\n\u001b[1;32m   3938\u001b[0m         \u001b[0;32mif\u001b[0m \u001b[0minplace\u001b[0m\u001b[0;34m:\u001b[0m\u001b[0;34m\u001b[0m\u001b[0;34m\u001b[0m\u001b[0m\n",
      "\u001b[0;32m~/miniconda3/lib/python3.7/site-packages/pandas/core/generic.py\u001b[0m in \u001b[0;36m_drop_axis\u001b[0;34m(self, labels, axis, level, errors)\u001b[0m\n\u001b[1;32m   3968\u001b[0m                 \u001b[0mnew_axis\u001b[0m \u001b[0;34m=\u001b[0m \u001b[0maxis\u001b[0m\u001b[0;34m.\u001b[0m\u001b[0mdrop\u001b[0m\u001b[0;34m(\u001b[0m\u001b[0mlabels\u001b[0m\u001b[0;34m,\u001b[0m \u001b[0mlevel\u001b[0m\u001b[0;34m=\u001b[0m\u001b[0mlevel\u001b[0m\u001b[0;34m,\u001b[0m \u001b[0merrors\u001b[0m\u001b[0;34m=\u001b[0m\u001b[0merrors\u001b[0m\u001b[0;34m)\u001b[0m\u001b[0;34m\u001b[0m\u001b[0;34m\u001b[0m\u001b[0m\n\u001b[1;32m   3969\u001b[0m             \u001b[0;32melse\u001b[0m\u001b[0;34m:\u001b[0m\u001b[0;34m\u001b[0m\u001b[0;34m\u001b[0m\u001b[0m\n\u001b[0;32m-> 3970\u001b[0;31m                 \u001b[0mnew_axis\u001b[0m \u001b[0;34m=\u001b[0m \u001b[0maxis\u001b[0m\u001b[0;34m.\u001b[0m\u001b[0mdrop\u001b[0m\u001b[0;34m(\u001b[0m\u001b[0mlabels\u001b[0m\u001b[0;34m,\u001b[0m \u001b[0merrors\u001b[0m\u001b[0;34m=\u001b[0m\u001b[0merrors\u001b[0m\u001b[0;34m)\u001b[0m\u001b[0;34m\u001b[0m\u001b[0;34m\u001b[0m\u001b[0m\n\u001b[0m\u001b[1;32m   3971\u001b[0m             \u001b[0mresult\u001b[0m \u001b[0;34m=\u001b[0m \u001b[0mself\u001b[0m\u001b[0;34m.\u001b[0m\u001b[0mreindex\u001b[0m\u001b[0;34m(\u001b[0m\u001b[0;34m**\u001b[0m\u001b[0;34m{\u001b[0m\u001b[0maxis_name\u001b[0m\u001b[0;34m:\u001b[0m \u001b[0mnew_axis\u001b[0m\u001b[0;34m}\u001b[0m\u001b[0;34m)\u001b[0m\u001b[0;34m\u001b[0m\u001b[0;34m\u001b[0m\u001b[0m\n\u001b[1;32m   3972\u001b[0m \u001b[0;34m\u001b[0m\u001b[0m\n",
      "\u001b[0;32m~/miniconda3/lib/python3.7/site-packages/pandas/core/indexes/base.py\u001b[0m in \u001b[0;36mdrop\u001b[0;34m(self, labels, errors)\u001b[0m\n\u001b[1;32m   5015\u001b[0m         \u001b[0;32mif\u001b[0m \u001b[0mmask\u001b[0m\u001b[0;34m.\u001b[0m\u001b[0many\u001b[0m\u001b[0;34m(\u001b[0m\u001b[0;34m)\u001b[0m\u001b[0;34m:\u001b[0m\u001b[0;34m\u001b[0m\u001b[0;34m\u001b[0m\u001b[0m\n\u001b[1;32m   5016\u001b[0m             \u001b[0;32mif\u001b[0m \u001b[0merrors\u001b[0m \u001b[0;34m!=\u001b[0m \u001b[0;34m\"ignore\"\u001b[0m\u001b[0;34m:\u001b[0m\u001b[0;34m\u001b[0m\u001b[0;34m\u001b[0m\u001b[0m\n\u001b[0;32m-> 5017\u001b[0;31m                 \u001b[0;32mraise\u001b[0m \u001b[0mKeyError\u001b[0m\u001b[0;34m(\u001b[0m\u001b[0;34mf\"{labels[mask]} not found in axis\"\u001b[0m\u001b[0;34m)\u001b[0m\u001b[0;34m\u001b[0m\u001b[0;34m\u001b[0m\u001b[0m\n\u001b[0m\u001b[1;32m   5018\u001b[0m             \u001b[0mindexer\u001b[0m \u001b[0;34m=\u001b[0m \u001b[0mindexer\u001b[0m\u001b[0;34m[\u001b[0m\u001b[0;34m~\u001b[0m\u001b[0mmask\u001b[0m\u001b[0;34m]\u001b[0m\u001b[0;34m\u001b[0m\u001b[0;34m\u001b[0m\u001b[0m\n\u001b[1;32m   5019\u001b[0m         \u001b[0;32mreturn\u001b[0m \u001b[0mself\u001b[0m\u001b[0;34m.\u001b[0m\u001b[0mdelete\u001b[0m\u001b[0;34m(\u001b[0m\u001b[0mindexer\u001b[0m\u001b[0;34m)\u001b[0m\u001b[0;34m\u001b[0m\u001b[0;34m\u001b[0m\u001b[0m\n",
      "\u001b[0;31mKeyError\u001b[0m: \"['Food and beverages(restaurant)' 'Accessibility to public transport'\\n 'Hotel facilities' 'Price of goods and services'] not found in axis\""
     ]
    }
   ],
   "source": [
    "data.drop(['Food and beverages(restaurant)', 'Accessibility to public transport', 'Hotel facilities', 'Price of goods and services'], inplace=True, axis=1)"
   ]
  },
  {
   "cell_type": "code",
   "execution_count": 96,
   "metadata": {},
   "outputs": [
    {
     "data": {
      "text/html": [
       "<div>\n",
       "<style scoped>\n",
       "    .dataframe tbody tr th:only-of-type {\n",
       "        vertical-align: middle;\n",
       "    }\n",
       "\n",
       "    .dataframe tbody tr th {\n",
       "        vertical-align: top;\n",
       "    }\n",
       "\n",
       "    .dataframe thead th {\n",
       "        text-align: right;\n",
       "    }\n",
       "</style>\n",
       "<table border=\"1\" class=\"dataframe\">\n",
       "  <thead>\n",
       "    <tr style=\"text-align: right;\">\n",
       "      <th></th>\n",
       "      <th>Age</th>\n",
       "      <th>Gender</th>\n",
       "      <th>#nights</th>\n",
       "      <th>Budget/person</th>\n",
       "      <th>purpose</th>\n",
       "      <th>accomodation_type</th>\n",
       "      <th>activities</th>\n",
       "      <th>places</th>\n",
       "      <th>userid</th>\n",
       "      <th>itemid</th>\n",
       "      <th>rating</th>\n",
       "    </tr>\n",
       "  </thead>\n",
       "  <tbody>\n",
       "    <tr>\n",
       "      <th>0</th>\n",
       "      <td>21</td>\n",
       "      <td>Female</td>\n",
       "      <td>More than 5 days</td>\n",
       "      <td>Between 10k and 25k</td>\n",
       "      <td>Holiday or vacation</td>\n",
       "      <td>Hotel</td>\n",
       "      <td>Visit museums, Visit national parks, Visit his...</td>\n",
       "      <td>Pangong Tso Lake</td>\n",
       "      <td>1</td>\n",
       "      <td>1</td>\n",
       "      <td>8.75</td>\n",
       "    </tr>\n",
       "    <tr>\n",
       "      <th>1</th>\n",
       "      <td>21</td>\n",
       "      <td>Female</td>\n",
       "      <td>More than 5 days</td>\n",
       "      <td>Between 10k and 25k</td>\n",
       "      <td>Holiday or vacation</td>\n",
       "      <td>Hotel</td>\n",
       "      <td>Visit museums, Visit national parks, Visit his...</td>\n",
       "      <td>Shanti Stupa</td>\n",
       "      <td>1</td>\n",
       "      <td>2</td>\n",
       "      <td>8.75</td>\n",
       "    </tr>\n",
       "    <tr>\n",
       "      <th>2</th>\n",
       "      <td>21</td>\n",
       "      <td>Female</td>\n",
       "      <td>More than 5 days</td>\n",
       "      <td>Between 10k and 25k</td>\n",
       "      <td>Holiday or vacation</td>\n",
       "      <td>Hotel</td>\n",
       "      <td>Visit museums, Visit national parks, Visit his...</td>\n",
       "      <td>Tiger Hill</td>\n",
       "      <td>1</td>\n",
       "      <td>3</td>\n",
       "      <td>8.75</td>\n",
       "    </tr>\n",
       "    <tr>\n",
       "      <th>3</th>\n",
       "      <td>21</td>\n",
       "      <td>Female</td>\n",
       "      <td>More than 5 days</td>\n",
       "      <td>Between 10k and 25k</td>\n",
       "      <td>Holiday or vacation</td>\n",
       "      <td>Hotel</td>\n",
       "      <td>Visit museums, Visit national parks, Visit his...</td>\n",
       "      <td>Khardung-la Pass</td>\n",
       "      <td>1</td>\n",
       "      <td>4</td>\n",
       "      <td>8.75</td>\n",
       "    </tr>\n",
       "    <tr>\n",
       "      <th>4</th>\n",
       "      <td>21</td>\n",
       "      <td>Female</td>\n",
       "      <td>More than 5 days</td>\n",
       "      <td>Between 10k and 25k</td>\n",
       "      <td>Holiday or vacation</td>\n",
       "      <td>Hotel</td>\n",
       "      <td>Visit museums, Visit national parks, Visit his...</td>\n",
       "      <td>Royal Leh Palace</td>\n",
       "      <td>1</td>\n",
       "      <td>5</td>\n",
       "      <td>8.75</td>\n",
       "    </tr>\n",
       "  </tbody>\n",
       "</table>\n",
       "</div>"
      ],
      "text/plain": [
       "   Age  Gender           #nights        Budget/person              purpose  \\\n",
       "0   21  Female  More than 5 days  Between 10k and 25k  Holiday or vacation   \n",
       "1   21  Female  More than 5 days  Between 10k and 25k  Holiday or vacation   \n",
       "2   21  Female  More than 5 days  Between 10k and 25k  Holiday or vacation   \n",
       "3   21  Female  More than 5 days  Between 10k and 25k  Holiday or vacation   \n",
       "4   21  Female  More than 5 days  Between 10k and 25k  Holiday or vacation   \n",
       "\n",
       "  accomodation_type                                         activities  \\\n",
       "0             Hotel  Visit museums, Visit national parks, Visit his...   \n",
       "1             Hotel  Visit museums, Visit national parks, Visit his...   \n",
       "2             Hotel  Visit museums, Visit national parks, Visit his...   \n",
       "3             Hotel  Visit museums, Visit national parks, Visit his...   \n",
       "4             Hotel  Visit museums, Visit national parks, Visit his...   \n",
       "\n",
       "              places  userid itemid  rating  \n",
       "0   Pangong Tso Lake       1      1    8.75  \n",
       "1       Shanti Stupa       1      2    8.75  \n",
       "2         Tiger Hill       1      3    8.75  \n",
       "3   Khardung-la Pass       1      4    8.75  \n",
       "4   Royal Leh Palace       1      5    8.75  "
      ]
     },
     "execution_count": 96,
     "metadata": {},
     "output_type": "execute_result"
    }
   ],
   "source": [
    "data.head()"
   ]
  },
  {
   "cell_type": "code",
   "execution_count": 98,
   "metadata": {},
   "outputs": [],
   "source": [
    "rate = []\n",
    "for i in range(df.shape[0]):\n",
    "    flag = 0\n",
    "    for j in range(data.shape[0]):\n",
    "        if(df['userid'][i]==data['userid'][j] and df['itemid'][i]==data['itemid'][j]):\n",
    "            rate.append(data['rating'][j])\n",
    "            flag = 1\n",
    "    if(flag==0):\n",
    "        rate.append(0)"
   ]
  },
  {
   "cell_type": "code",
   "execution_count": 99,
   "metadata": {},
   "outputs": [
    {
     "data": {
      "text/plain": [
       "(2080, 3)"
      ]
     },
     "execution_count": 99,
     "metadata": {},
     "output_type": "execute_result"
    }
   ],
   "source": [
    "df.shape"
   ]
  },
  {
   "cell_type": "code",
   "execution_count": 100,
   "metadata": {},
   "outputs": [
    {
     "data": {
      "text/plain": [
       "2080"
      ]
     },
     "execution_count": 100,
     "metadata": {},
     "output_type": "execute_result"
    }
   ],
   "source": [
    "len(rate)"
   ]
  },
  {
   "cell_type": "code",
   "execution_count": 101,
   "metadata": {},
   "outputs": [],
   "source": [
    "df['rating'] = rate"
   ]
  },
  {
   "cell_type": "code",
   "execution_count": 105,
   "metadata": {},
   "outputs": [],
   "source": [
    "for i in df['itemid']:\n",
    "    if i=='NaN':\n",
    "        i = 0"
   ]
  },
  {
   "cell_type": "code",
   "execution_count": 118,
   "metadata": {},
   "outputs": [
    {
     "name": "stdin",
     "output_type": "stream",
     "text": [
      "Enter userid:  6\n"
     ]
    },
    {
     "name": "stdout",
     "output_type": "stream",
     "text": [
      "The recommended places for you are: \n",
      "['Pangong Tso Lake', 'Shanti Stupa', 'Tiger Hill', 'Khardung-la pass']\n"
     ]
    }
   ],
   "source": [
    "def favoritePlace(activeUser,N):\n",
    "    topPlace=pd.DataFrame.sort_values(\n",
    "        df[df.userid==activeUser],['rating'],ascending=[0])[:N]\n",
    "    return list(topPlace.title)\n",
    "\n",
    "userItemRatingMatrix=pd.pivot_table(df, values='rating',\n",
    "                                    index=['userid'], columns=['itemid'])\n",
    "\n",
    "\n",
    "def similarity(user1,user2):\n",
    "    try:\n",
    "        user1=np.array(user1)-np.nanmean(user1)\n",
    "        user2=np.array(user2)-np.nanmean(user2)\n",
    "        commonItemIds=[i for i in range(len(user1)) if user1[i]>0 and user2[i]>0]\n",
    "        if len(commonItemIds)==0:\n",
    "           return 0\n",
    "        else:\n",
    "           user1=np.array([user1[i] for i in commonItemIds])\n",
    "           user2=np.array([user2[i] for i in commonItemIds])\n",
    "           return correlation(user1,user2)\n",
    "    except ZeroDivisionError:\n",
    "        print(\"You can't divide by zero!\")\n",
    "\n",
    "\n",
    "\n",
    "def nearestNeighbourRatings(activeUser,K):\n",
    "    try:\n",
    "        similarityMatrix=pd.DataFrame(index=userItemRatingMatrix.index,columns=['Similarity'])\n",
    "        for i in userItemRatingMatrix.index:\n",
    "            similarityMatrix.loc[i]=similarity(userItemRatingMatrix.loc[activeUser],userItemRatingMatrix.loc[i])\n",
    "        similarityMatrix=pd.DataFrame.sort_values(similarityMatrix,['Similarity'],ascending=[0])\n",
    "        nearestNeighbours=similarityMatrix[:K]\n",
    "        neighbourItemRatings=userItemRatingMatrix.loc[nearestNeighbours.index]\n",
    "        predictItemRating=pd.DataFrame(index=userItemRatingMatrix.columns, columns=['Rating'])\n",
    "        for i in userItemRatingMatrix.columns:\n",
    "            predictedRating=np.nanmean(userItemRatingMatrix.loc[activeUser])\n",
    "            for j in neighbourItemRatings.index:\n",
    "                if userItemRatingMatrix.loc[j,i]>0:\n",
    "                   predictedRating += (userItemRatingMatrix.loc[j,i]-np.nanmean(userItemRatingMatrix.loc[j]))*nearestNeighbours.loc[j,'Similarity']\n",
    "                predictItemRating.loc[i,'Rating']=predictedRating\n",
    "    except ZeroDivisionError:\n",
    "        print(\"You can't divide by zero!\")            \n",
    "    return predictItemRating\n",
    "\n",
    "\n",
    "def topNRecommendations(activeUser,N):\n",
    "    try:\n",
    "        predictItemRating=nearestNeighbourRatings(activeUser,10)\n",
    "        placeAlreadyWatched=list(userItemRatingMatrix.loc[activeUser]\n",
    "                              .loc[userItemRatingMatrix.loc[activeUser]>0].index)\n",
    "        predictItemRating=predictItemRating.drop(placeAlreadyWatched)\n",
    "        topRecommendations=pd.DataFrame.sort_values(predictItemRating,\n",
    "                                                ['Rating'],ascending=[0])[:N]\n",
    "        topRecommendationTitles=(attractions.loc[attractions.itemid.isin(topRecommendations.index)])\n",
    "    except ZeroDivisionError:\n",
    "        print(\"You can't divide by zero!\")\n",
    "    return list(topRecommendationTitles.Name)\n",
    "\n",
    "\n",
    "activeUser=int(input(\"Enter userid: \"))\n",
    "#print(\"The user's favorite places are: \")\n",
    "#print(favoritePlace(activeUser,5))\n",
    "print(\"The recommended places for you are: \")\n",
    "print(topNRecommendations(activeUser,4))"
   ]
  },
  {
   "cell_type": "code",
   "execution_count": null,
   "metadata": {},
   "outputs": [],
   "source": []
  },
  {
   "cell_type": "code",
   "execution_count": null,
   "metadata": {},
   "outputs": [],
   "source": []
  }
 ],
 "metadata": {
  "kernelspec": {
   "display_name": "Python 3",
   "language": "python",
   "name": "python3"
  },
  "language_info": {
   "codemirror_mode": {
    "name": "ipython",
    "version": 3
   },
   "file_extension": ".py",
   "mimetype": "text/x-python",
   "name": "python",
   "nbconvert_exporter": "python",
   "pygments_lexer": "ipython3",
   "version": "3.7.3"
  }
 },
 "nbformat": 4,
 "nbformat_minor": 4
}
